{
  "nbformat": 4,
  "nbformat_minor": 0,
  "metadata": {
    "colab": {
      "provenance": [],
      "gpuType": "T4"
    },
    "kernelspec": {
      "name": "python3",
      "display_name": "Python 3"
    },
    "language_info": {
      "name": "python"
    },
    "accelerator": "GPU",
    "gpuClass": "standard"
  },
  "cells": [
    {
      "cell_type": "code",
      "execution_count": null,
      "metadata": {
        "id": "MQWBU89W254e"
      },
      "outputs": [],
      "source": [
        "# install dependencies\n",
        "!apt-get update                                                                          # อัพเดท Package ทั้งหมดใน VM ตัวนี้\n",
        "!apt-get install openjdk-8-jdk-headless -qq > /dev/null                                  # ติดตั้ง Java Development Kit (จำเป็นสำหรับการติดตั้ง Spark)\n",
        "!wget -q https://archive.apache.org/dist/spark/spark-3.1.2/spark-3.1.2-bin-hadoop2.7.tgz # ติดตั้ง Spark 3.1.2\n",
        "!tar xzvf spark-3.1.2-bin-hadoop2.7.tgz                                                  # Unzip ไฟล์ Spark 3.1.2\n",
        "!pip install -q findspark==1.3.0                                                         # ติดตั้ง Package Python สำหรับเชื่อมต่อกับ Spark "
      ]
    },
    {
      "cell_type": "code",
      "source": [
        "# set enviroment\n",
        "import os\n",
        "os.environ[\"JAVA_HOME\"] = \"/usr/lib/jvm/java-8-openjdk-amd64\"\n",
        "os.environ[\"SPARK_HOME\"] = \"/content/spark-3.1.2-bin-hadoop2.7\""
      ],
      "metadata": {
        "id": "_pkT5L483Km_"
      },
      "execution_count": 2,
      "outputs": []
    },
    {
      "cell_type": "code",
      "source": [
        "# install pyspark\n",
        "!pip install pyspark==3.1.2"
      ],
      "metadata": {
        "id": "j-xgKfgX3PXl"
      },
      "execution_count": null,
      "outputs": []
    },
    {
      "cell_type": "code",
      "source": [
        "!cat /proc/cpuinfo"
      ],
      "metadata": {
        "id": "UrXM6nka3Tut"
      },
      "execution_count": null,
      "outputs": []
    },
    {
      "cell_type": "code",
      "source": [
        "# create spark session\n",
        "from pyspark.sql import SparkSession\n",
        "spark = SparkSession.builder.master(\"local[*]\").getOrCreate()"
      ],
      "metadata": {
        "id": "PwB-i6jL3VfR"
      },
      "execution_count": 5,
      "outputs": []
    },
    {
      "cell_type": "code",
      "source": [
        "import sys\n",
        "sys.version_info"
      ],
      "metadata": {
        "colab": {
          "base_uri": "https://localhost:8080/"
        },
        "id": "arHge3mq3YgY",
        "outputId": "5d151521-2cbd-4b49-bd27-9058d4618451"
      },
      "execution_count": 6,
      "outputs": [
        {
          "output_type": "execute_result",
          "data": {
            "text/plain": [
              "sys.version_info(major=3, minor=10, micro=11, releaselevel='final', serial=0)"
            ]
          },
          "metadata": {},
          "execution_count": 6
        }
      ]
    },
    {
      "cell_type": "code",
      "source": [
        "# download dataset\n",
        "import pandas as pd\n",
        "url_github = 'https://raw.githubusercontent.com/databricks/Spark-The-Definitive-Guide/master/data/retail-data/all/online-retail-dataset.csv'\n",
        "df = pd.read_csv(url_github)\n",
        "\n"
      ],
      "metadata": {
        "id": "B1Sg7MBO4AQO"
      },
      "execution_count": 7,
      "outputs": []
    },
    {
      "cell_type": "code",
      "source": [
        "df"
      ],
      "metadata": {
        "id": "1WKJgasW4s7Q"
      },
      "execution_count": null,
      "outputs": []
    },
    {
      "cell_type": "code",
      "source": [
        "# check type of df\n",
        "type(df)"
      ],
      "metadata": {
        "colab": {
          "base_uri": "https://localhost:8080/"
        },
        "id": "wT8SMRCh4wTq",
        "outputId": "8920575c-2301-42bd-aa57-e94aab9f9fac"
      },
      "execution_count": null,
      "outputs": [
        {
          "output_type": "execute_result",
          "data": {
            "text/plain": [
              "pandas.core.frame.DataFrame"
            ]
          },
          "metadata": {},
          "execution_count": 17
        }
      ]
    },
    {
      "cell_type": "code",
      "source": [
        "# download data from df to retail.csv\n",
        "df.to_csv('retail.csv',header=True,index = False)"
      ],
      "metadata": {
        "id": "hGW3u9Md7Czb"
      },
      "execution_count": 9,
      "outputs": []
    },
    {
      "cell_type": "markdown",
      "source": [
        "# ***Data Profiling***"
      ],
      "metadata": {
        "id": "IKIKCFcd1Qms"
      }
    },
    {
      "cell_type": "code",
      "source": [
        " # download data to retail_data \n",
        " retail_data = spark.read.csv('/content/retail.csv',header = True, inferSchema = True,) "
      ],
      "metadata": {
        "id": "ctEMRUx35Tg3"
      },
      "execution_count": 10,
      "outputs": []
    },
    {
      "cell_type": "code",
      "source": [
        "# check retail_data\n",
        "retail_data.show()"
      ],
      "metadata": {
        "id": "mIqSECuA-Bum"
      },
      "execution_count": null,
      "outputs": []
    },
    {
      "cell_type": "code",
      "source": [
        "# check data type\n",
        "retail_data.dtypes"
      ],
      "metadata": {
        "id": "LXJBduD7-IQd"
      },
      "execution_count": null,
      "outputs": []
    },
    {
      "cell_type": "code",
      "source": [
        "# check data type\n",
        "retail_data.printSchema()"
      ],
      "metadata": {
        "id": "Ep3qgqvY4q6u"
      },
      "execution_count": null,
      "outputs": []
    },
    {
      "cell_type": "code",
      "source": [
        "# นับจำนวน row และ column\n",
        "print((retail_data.count(), len(retail_data.columns)))"
      ],
      "metadata": {
        "colab": {
          "base_uri": "https://localhost:8080/"
        },
        "id": "QoH47SfL12dN",
        "outputId": "6184e6e1-b4dd-4094-ec33-c0e243d086ce"
      },
      "execution_count": 14,
      "outputs": [
        {
          "output_type": "stream",
          "name": "stdout",
          "text": [
            "(541909, 8)\n"
          ]
        }
      ]
    },
    {
      "cell_type": "code",
      "source": [
        "# สรุปข้อมูลสถิติโดยใช้ describe\n",
        "retail_data.describe().show()"
      ],
      "metadata": {
        "colab": {
          "base_uri": "https://localhost:8080/"
        },
        "id": "7IfJoLBy-V2K",
        "outputId": "fac64f63-ce39-4eed-c7fb-cddfc4795d41"
      },
      "execution_count": 15,
      "outputs": [
        {
          "output_type": "stream",
          "name": "stdout",
          "text": [
            "+-------+------------------+------------------+--------------------+-----------------+---------------+-----------------+------------------+-----------+\n",
            "|summary|         InvoiceNo|         StockCode|         Description|         Quantity|    InvoiceDate|        UnitPrice|        CustomerID|    Country|\n",
            "+-------+------------------+------------------+--------------------+-----------------+---------------+-----------------+------------------+-----------+\n",
            "|  count|            541909|            541909|              540455|           541909|         541909|           541909|            406829|     541909|\n",
            "|   mean|  559965.752026781|27623.240210938104|             20713.0| 9.55224954743324|           null| 4.61111362608297|15287.690570239585|       null|\n",
            "| stddev|13428.417280804775|16799.737628427683|                null|218.0811578502348|           null|96.75985306117948| 1713.600303321591|       null|\n",
            "|    min|            536365|             10002| 4 PURPLE FLOCK D...|           -80995|1/10/2011 10:04|        -11062.06|           12346.0|  Australia|\n",
            "|    max|           C581569|                 m|   wrongly sold sets|            80995|  9/9/2011 9:52|          38970.0|           18287.0|Unspecified|\n",
            "+-------+------------------+------------------+--------------------+-----------------+---------------+-----------------+------------------+-----------+\n",
            "\n"
          ]
        }
      ]
    },
    {
      "cell_type": "code",
      "source": [
        "# สรุปข้อมูลสถิติโดยใช้ summary\n",
        "retail_data.summary().show()"
      ],
      "metadata": {
        "colab": {
          "base_uri": "https://localhost:8080/"
        },
        "id": "0XMBdED1Am6_",
        "outputId": "b2a2660f-d50c-4425-cd1b-614310279ff0"
      },
      "execution_count": null,
      "outputs": [
        {
          "output_type": "stream",
          "name": "stdout",
          "text": [
            "+-------+------------------+------------------+--------------------+-----------------+---------------+-----------------+------------------+-----------+\n",
            "|summary|         InvoiceNo|         StockCode|         Description|         Quantity|    InvoiceDate|        UnitPrice|        CustomerID|    Country|\n",
            "+-------+------------------+------------------+--------------------+-----------------+---------------+-----------------+------------------+-----------+\n",
            "|  count|            541909|            541909|              540455|           541909|         541909|           541909|            406829|     541909|\n",
            "|   mean|  559965.752026781|27623.240210938104|             20713.0| 9.55224954743324|           null| 4.61111362608297|15287.690570239585|       null|\n",
            "| stddev|13428.417280804775|16799.737628427683|                null|218.0811578502348|           null|96.75985306117948| 1713.600303321591|       null|\n",
            "|    min|            536365|             10002| 4 PURPLE FLOCK D...|           -80995|1/10/2011 10:04|        -11062.06|           12346.0|  Australia|\n",
            "|    25%|          547903.0|           21929.0|             20713.0|                1|           null|             1.25|           13953.0|       null|\n",
            "|    50%|          560650.0|           22569.0|             20713.0|                3|           null|             2.08|           15152.0|       null|\n",
            "|    75%|          571841.0|           23165.0|             20713.0|               10|           null|             4.13|           16791.0|       null|\n",
            "|    max|           C581569|                 m|   wrongly sold sets|            80995|  9/9/2011 9:52|          38970.0|           18287.0|Unspecified|\n",
            "+-------+------------------+------------------+--------------------+-----------------+---------------+-----------------+------------------+-----------+\n",
            "\n"
          ]
        }
      ]
    },
    {
      "cell_type": "code",
      "source": [
        "# นับจำนวนแถว\n",
        "retail_data.summary(\"count\").show()"
      ],
      "metadata": {
        "colab": {
          "base_uri": "https://localhost:8080/"
        },
        "id": "yP1KNpTZDDcX",
        "outputId": "95b6bd2d-99d0-4212-da32-c0f079c4c916"
      },
      "execution_count": null,
      "outputs": [
        {
          "output_type": "stream",
          "name": "stdout",
          "text": [
            "+-------+---------+---------+-----------+--------+-----------+---------+----------+-------+\n",
            "|summary|InvoiceNo|StockCode|Description|Quantity|InvoiceDate|UnitPrice|CustomerID|Country|\n",
            "+-------+---------+---------+-----------+--------+-----------+---------+----------+-------+\n",
            "|  count|   541909|   541909|     540455|  541909|     541909|   541909|    406829| 541909|\n",
            "+-------+---------+---------+-----------+--------+-----------+---------+----------+-------+\n",
            "\n"
          ]
        }
      ]
    },
    {
      "cell_type": "markdown",
      "source": [
        "# **สังเกตุว่า column Description และ Customer มีจำนวน row ไม่เท่า row อื่นๆ**"
      ],
      "metadata": {
        "id": "EBwUf-6H2aoy"
      }
    },
    {
      "cell_type": "markdown",
      "source": [
        "# **หา Missingvalue**"
      ],
      "metadata": {
        "id": "XhO5VeBN_Ccp"
      }
    },
    {
      "cell_type": "code",
      "source": [
        "# check missing value จาก column CustomerID\n",
        "retail_data.where( retail_data.CustomerID.isNull() ).count()"
      ],
      "metadata": {
        "colab": {
          "base_uri": "https://localhost:8080/"
        },
        "id": "S6isp0tg_jcB",
        "outputId": "49f22f94-10e8-4e7e-a888-21dbb03f0cf3"
      },
      "execution_count": null,
      "outputs": [
        {
          "output_type": "execute_result",
          "data": {
            "text/plain": [
              "135080"
            ]
          },
          "metadata": {},
          "execution_count": 26
        }
      ]
    },
    {
      "cell_type": "code",
      "source": [
        "# check missing value จาก column Description\n",
        "retail_data.where( retail_data.Description.isNull() ).count()"
      ],
      "metadata": {
        "colab": {
          "base_uri": "https://localhost:8080/"
        },
        "id": "4yQ1kr9iAbyQ",
        "outputId": "01ef2091-f9d7-407e-e44d-33af9e17b412"
      },
      "execution_count": null,
      "outputs": [
        {
          "output_type": "execute_result",
          "data": {
            "text/plain": [
              "1454"
            ]
          },
          "metadata": {},
          "execution_count": 27
        }
      ]
    },
    {
      "cell_type": "code",
      "source": [
        "# ดูข้อมูลคร่าวๆที่ customerID นั้น Null\n",
        "retail_data.filter( retail_data.CustomerID.isNull() ).show()"
      ],
      "metadata": {
        "colab": {
          "base_uri": "https://localhost:8080/"
        },
        "id": "0S9zfydgAk2g",
        "outputId": "387b1193-043d-4bf4-f447-60298b8441e2"
      },
      "execution_count": 16,
      "outputs": [
        {
          "output_type": "stream",
          "name": "stdout",
          "text": [
            "+---------+---------+--------------------+--------+---------------+---------+----------+--------------+\n",
            "|InvoiceNo|StockCode|         Description|Quantity|    InvoiceDate|UnitPrice|CustomerID|       Country|\n",
            "+---------+---------+--------------------+--------+---------------+---------+----------+--------------+\n",
            "|   536414|    22139|                null|      56|12/1/2010 11:52|      0.0|      null|United Kingdom|\n",
            "|   536544|    21773|DECORATIVE ROSE B...|       1|12/1/2010 14:32|     2.51|      null|United Kingdom|\n",
            "|   536544|    21774|DECORATIVE CATS B...|       2|12/1/2010 14:32|     2.51|      null|United Kingdom|\n",
            "|   536544|    21786|  POLKADOT RAIN HAT |       4|12/1/2010 14:32|     0.85|      null|United Kingdom|\n",
            "|   536544|    21787|RAIN PONCHO RETRO...|       2|12/1/2010 14:32|     1.66|      null|United Kingdom|\n",
            "|   536544|    21790|  VINTAGE SNAP CARDS|       9|12/1/2010 14:32|     1.66|      null|United Kingdom|\n",
            "|   536544|    21791|VINTAGE HEADS AND...|       2|12/1/2010 14:32|     2.51|      null|United Kingdom|\n",
            "|   536544|    21801|CHRISTMAS TREE DE...|      10|12/1/2010 14:32|     0.43|      null|United Kingdom|\n",
            "|   536544|    21802|CHRISTMAS TREE HE...|       9|12/1/2010 14:32|     0.43|      null|United Kingdom|\n",
            "|   536544|    21803|CHRISTMAS TREE ST...|      11|12/1/2010 14:32|     0.43|      null|United Kingdom|\n",
            "|   536544|    21809|CHRISTMAS HANGING...|       1|12/1/2010 14:32|     2.51|      null|United Kingdom|\n",
            "|   536544|    21810|CHRISTMAS HANGING...|       3|12/1/2010 14:32|     2.51|      null|United Kingdom|\n",
            "|   536544|    21811|CHRISTMAS HANGING...|       1|12/1/2010 14:32|     2.51|      null|United Kingdom|\n",
            "|   536544|    21821|GLITTER STAR GARL...|       1|12/1/2010 14:32|     7.62|      null|United Kingdom|\n",
            "|   536544|    21822|GLITTER CHRISTMAS...|       1|12/1/2010 14:32|     4.21|      null|United Kingdom|\n",
            "|   536544|    21823|PAINTED METAL HEA...|       2|12/1/2010 14:32|     2.98|      null|United Kingdom|\n",
            "|   536544|    21844|   RED RETROSPOT MUG|       2|12/1/2010 14:32|     5.91|      null|United Kingdom|\n",
            "|   536544|    21851|LILAC DIAMANTE PE...|       1|12/1/2010 14:32|     4.21|      null|United Kingdom|\n",
            "|   536544|    21870|I CAN ONLY PLEASE...|       1|12/1/2010 14:32|     3.36|      null|United Kingdom|\n",
            "|   536544|    21871| SAVE THE PLANET MUG|       5|12/1/2010 14:32|     3.36|      null|United Kingdom|\n",
            "+---------+---------+--------------------+--------+---------------+---------+----------+--------------+\n",
            "only showing top 20 rows\n",
            "\n"
          ]
        }
      ]
    },
    {
      "cell_type": "code",
      "source": [
        "# ดูข้อมูลคร่าวๆที่ Desciption นั้น Null \n",
        "retail_data.filter( retail_data.Description.isNull() ).show()"
      ],
      "metadata": {
        "id": "qMPMjUUiwOzN"
      },
      "execution_count": null,
      "outputs": []
    },
    {
      "cell_type": "code",
      "source": [
        "# นับประเทศทั้งหมด\n",
        "retail_data.select('Country').distinct().count()"
      ],
      "metadata": {
        "colab": {
          "base_uri": "https://localhost:8080/"
        },
        "id": "FVUkfhxlHDJX",
        "outputId": "33f40f2f-5fc9-4001-90e1-2212cd104218"
      },
      "execution_count": 18,
      "outputs": [
        {
          "output_type": "execute_result",
          "data": {
            "text/plain": [
              "38"
            ]
          },
          "metadata": {},
          "execution_count": 18
        }
      ]
    },
    {
      "cell_type": "code",
      "source": [
        "# ดูประเทศทั้งหมด\n",
        "retail_data.select('Country').distinct().sort(retail_data.Country).show(38)"
      ],
      "metadata": {
        "id": "KIzwQ6_SDWly"
      },
      "execution_count": null,
      "outputs": []
    },
    {
      "cell_type": "code",
      "source": [
        "# นับ Description ทั้งหมดที่ไม่ซ้ำกัน\n",
        "retail_data.select('Description').distinct().count()"
      ],
      "metadata": {
        "id": "fxhPUXYcEmxp",
        "colab": {
          "base_uri": "https://localhost:8080/"
        },
        "outputId": "ebc2eef5-63db-4c03-b9a5-14109dc61af0"
      },
      "execution_count": null,
      "outputs": [
        {
          "output_type": "execute_result",
          "data": {
            "text/plain": [
              "4224"
            ]
          },
          "metadata": {},
          "execution_count": 49
        }
      ]
    },
    {
      "cell_type": "code",
      "source": [
        "# นับ Description ทั้งหมด\n",
        "retail_data.groupBy(\"Description\").count().show()"
      ],
      "metadata": {
        "id": "HU0USLqPEvy3"
      },
      "execution_count": null,
      "outputs": []
    },
    {
      "cell_type": "markdown",
      "source": [
        "# **Graphical EDA - Exploratory Data Analysis**"
      ],
      "metadata": {
        "id": "b887zLgI8Jl2"
      }
    },
    {
      "cell_type": "code",
      "source": [
        "# import dependencies\n",
        "import seaborn as sns\n",
        "import matplotlib.pyplot as plt\n",
        "import pandas as pd"
      ],
      "metadata": {
        "id": "TNYsWlTPnSsg"
      },
      "execution_count": null,
      "outputs": []
    },
    {
      "cell_type": "code",
      "source": [
        "# convert to pandasdataframe\n",
        "retail_pd = retail_data.toPandas()"
      ],
      "metadata": {
        "id": "RQOhRbVqnYoY"
      },
      "execution_count": null,
      "outputs": []
    },
    {
      "cell_type": "code",
      "source": [
        "# Boxplot - แสดงการกระจายตัวของข้อมูลตัวเลขและหา outlier\n",
        "sns.boxplot(x = retail_pd['Quantity'])"
      ],
      "metadata": {
        "colab": {
          "base_uri": "https://localhost:8080/",
          "height": 467
        },
        "id": "zlY8ELzhngjp",
        "outputId": "e838b3ca-42a7-4104-a308-1f08dbc22ed9"
      },
      "execution_count": null,
      "outputs": [
        {
          "output_type": "execute_result",
          "data": {
            "text/plain": [
              "<Axes: xlabel='Quantity'>"
            ]
          },
          "metadata": {},
          "execution_count": 26
        },
        {
          "output_type": "display_data",
          "data": {
            "text/plain": [
              "<Figure size 640x480 with 1 Axes>"
            ],
            "image/png": "[encoded data removed]"
          },
          "metadata": {}
        }
      ]
    },
    {
      "cell_type": "code",
      "source": [
        "sns.boxplot(x = retail_pd['UnitPrice'])"
      ],
      "metadata": {
        "colab": {
          "base_uri": "https://localhost:8080/",
          "height": 467
        },
        "id": "xTbXxymeoaeR",
        "outputId": "d85d9c36-d5bb-498e-f416-59cc07b34847"
      },
      "execution_count": null,
      "outputs": [
        {
          "output_type": "execute_result",
          "data": {
            "text/plain": [
              "<Axes: xlabel='UnitPrice'>"
            ]
          },
          "metadata": {},
          "execution_count": 27
        },
        {
          "output_type": "display_data",
          "data": {
            "text/plain": [
              "<Figure size 640x480 with 1 Axes>"
            ],
            "image/png": "[encoded data removed]"
          },
          "metadata": {}
        }
      ]
    },
    {
      "cell_type": "markdown",
      "source": [
        "# **semantic Anomalies**"
      ],
      "metadata": {
        "id": "1957zo9mptMr"
      }
    },
    {
      "cell_type": "markdown",
      "source": [
        "# **จากที่เราสังเกตุจาก summary เราเห็นว่า quantity กับ unitprice ไม่ควรจะติดลบดังนั้นเราจะมาดูข้อมูลกัน**"
      ],
      "metadata": {
        "id": "iOm3j3h5L0xz"
      }
    },
    {
      "cell_type": "code",
      "source": [
        "# check quantity ที่น้อยกว่า 0\n",
        "retail_data.filter(retail_data['Quantity'] < 0).show()"
      ],
      "metadata": {
        "id": "8ApOKQSpAEgB"
      },
      "execution_count": null,
      "outputs": []
    },
    {
      "cell_type": "code",
      "source": [
        "# นับจำนวน quantity ที่น้อยกว่า 0\n",
        "retail_data.filter(retail_data['Quantity'] < 0).count()"
      ],
      "metadata": {
        "colab": {
          "base_uri": "https://localhost:8080/"
        },
        "id": "lFQUXWM3AFNr",
        "outputId": "4a769d50-41bd-46ca-9421-bec235b56e22"
      },
      "execution_count": null,
      "outputs": [
        {
          "output_type": "execute_result",
          "data": {
            "text/plain": [
              "10624"
            ]
          },
          "metadata": {},
          "execution_count": 29
        }
      ]
    },
    {
      "cell_type": "code",
      "source": [
        "# check unitprice ที่น้อยกว่า 0\n",
        "retail_data.filter(retail_data['UnitPrice'] < 0).show()"
      ],
      "metadata": {
        "colab": {
          "base_uri": "https://localhost:8080/"
        },
        "id": "xjvX2vPhAFcc",
        "outputId": "0143c9ab-59a9-4106-b24c-cffe8641b1f0"
      },
      "execution_count": null,
      "outputs": [
        {
          "output_type": "stream",
          "name": "stdout",
          "text": [
            "+---------+---------+---------------+--------+---------------+---------+----------+--------------+\n",
            "|InvoiceNo|StockCode|    Description|Quantity|    InvoiceDate|UnitPrice|CustomerID|       Country|\n",
            "+---------+---------+---------------+--------+---------------+---------+----------+--------------+\n",
            "|  A563186|        B|Adjust bad debt|       1|8/12/2011 14:51|-11062.06|      null|United Kingdom|\n",
            "|  A563187|        B|Adjust bad debt|       1|8/12/2011 14:52|-11062.06|      null|United Kingdom|\n",
            "+---------+---------+---------------+--------+---------------+---------+----------+--------------+\n",
            "\n"
          ]
        }
      ]
    },
    {
      "cell_type": "code",
      "source": [
        "# นับจำนวน unitprice ที่น้อยกว่า 0\n",
        "retail_data.filter(retail_data['UnitPrice'] < 0).count()"
      ],
      "metadata": {
        "colab": {
          "base_uri": "https://localhost:8080/"
        },
        "id": "DdvgHZfvAF5M",
        "outputId": "1613fe18-2902-481a-f9bb-658b3728316d"
      },
      "execution_count": null,
      "outputs": [
        {
          "output_type": "execute_result",
          "data": {
            "text/plain": [
              "2"
            ]
          },
          "metadata": {},
          "execution_count": 31
        }
      ]
    },
    {
      "cell_type": "code",
      "source": [
        "# ตรวจสอบ format ของ InvoiceNo ว่าเป็นอย่างไร\n",
        "retail_data.select('InvoiceNo').show(100)"
      ],
      "metadata": {
        "id": "vsVKG9iApB5n"
      },
      "execution_count": null,
      "outputs": []
    },
    {
      "cell_type": "markdown",
      "source": [
        "# **เราได้สมมุติว่า InvoiceNo นั้นควรจะเป็นตัวเลขจำนวน 6 หลักเท่านั้น**"
      ],
      "metadata": {
        "id": "EHG14izcMtg1"
      }
    },
    {
      "cell_type": "code",
      "source": [
        "# check จำนวน InvoiceNO ที่มี format ตรงกับที่กำหนดโดยใช้ rlike\n",
        "retail_data.where(retail_data[\"InvoiceNo\"].rlike(\"^[0-9]{6}$\")).count()"
      ],
      "metadata": {
        "colab": {
          "base_uri": "https://localhost:8080/"
        },
        "id": "U2k4xx-OqG9F",
        "outputId": "4fcfe913-ef67-4402-a4ef-f00b99e46dad"
      },
      "execution_count": null,
      "outputs": [
        {
          "output_type": "execute_result",
          "data": {
            "text/plain": [
              "532618"
            ]
          },
          "metadata": {},
          "execution_count": 133
        }
      ]
    },
    {
      "cell_type": "code",
      "source": [
        "# check  InvoiceNO ที่มี format ตรงกับที่กำหนดโดยใช้ rlike\n",
        "retail_data.where(retail_data[\"InvoiceNo\"].rlike(\"^[0-9]{6}$\")).show()"
      ],
      "metadata": {
        "colab": {
          "base_uri": "https://localhost:8080/"
        },
        "id": "zfvAsPPfxmCI",
        "outputId": "957d3a5e-ed1e-4d25-d337-f42a3bc68f51"
      },
      "execution_count": null,
      "outputs": [
        {
          "output_type": "stream",
          "name": "stdout",
          "text": [
            "+---------+---------+--------------------+--------+--------------+---------+----------+--------------+\n",
            "|InvoiceNo|StockCode|         Description|Quantity|   InvoiceDate|UnitPrice|CustomerID|       Country|\n",
            "+---------+---------+--------------------+--------+--------------+---------+----------+--------------+\n",
            "|   536365|   85123A|WHITE HANGING HEA...|       6|12/1/2010 8:26|     2.55|   17850.0|United Kingdom|\n",
            "|   536365|    71053| WHITE METAL LANTERN|       6|12/1/2010 8:26|     3.39|   17850.0|United Kingdom|\n",
            "|   536365|   84406B|CREAM CUPID HEART...|       8|12/1/2010 8:26|     2.75|   17850.0|United Kingdom|\n",
            "|   536365|   84029G|KNITTED UNION FLA...|       6|12/1/2010 8:26|     3.39|   17850.0|United Kingdom|\n",
            "|   536365|   84029E|RED WOOLLY HOTTIE...|       6|12/1/2010 8:26|     3.39|   17850.0|United Kingdom|\n",
            "|   536365|    22752|SET 7 BABUSHKA NE...|       2|12/1/2010 8:26|     7.65|   17850.0|United Kingdom|\n",
            "|   536365|    21730|GLASS STAR FROSTE...|       6|12/1/2010 8:26|     4.25|   17850.0|United Kingdom|\n",
            "|   536366|    22633|HAND WARMER UNION...|       6|12/1/2010 8:28|     1.85|   17850.0|United Kingdom|\n",
            "|   536366|    22632|HAND WARMER RED P...|       6|12/1/2010 8:28|     1.85|   17850.0|United Kingdom|\n",
            "|   536367|    84879|ASSORTED COLOUR B...|      32|12/1/2010 8:34|     1.69|   13047.0|United Kingdom|\n",
            "|   536367|    22745|POPPY'S PLAYHOUSE...|       6|12/1/2010 8:34|      2.1|   13047.0|United Kingdom|\n",
            "|   536367|    22748|POPPY'S PLAYHOUSE...|       6|12/1/2010 8:34|      2.1|   13047.0|United Kingdom|\n",
            "|   536367|    22749|FELTCRAFT PRINCES...|       8|12/1/2010 8:34|     3.75|   13047.0|United Kingdom|\n",
            "|   536367|    22310|IVORY KNITTED MUG...|       6|12/1/2010 8:34|     1.65|   13047.0|United Kingdom|\n",
            "|   536367|    84969|BOX OF 6 ASSORTED...|       6|12/1/2010 8:34|     4.25|   13047.0|United Kingdom|\n",
            "|   536367|    22623|BOX OF VINTAGE JI...|       3|12/1/2010 8:34|     4.95|   13047.0|United Kingdom|\n",
            "|   536367|    22622|BOX OF VINTAGE AL...|       2|12/1/2010 8:34|     9.95|   13047.0|United Kingdom|\n",
            "|   536367|    21754|HOME BUILDING BLO...|       3|12/1/2010 8:34|     5.95|   13047.0|United Kingdom|\n",
            "|   536367|    21755|LOVE BUILDING BLO...|       3|12/1/2010 8:34|     5.95|   13047.0|United Kingdom|\n",
            "|   536367|    21777|RECIPE BOX WITH M...|       4|12/1/2010 8:34|     7.95|   13047.0|United Kingdom|\n",
            "+---------+---------+--------------------+--------+--------------+---------+----------+--------------+\n",
            "only showing top 20 rows\n",
            "\n"
          ]
        }
      ]
    },
    {
      "cell_type": "code",
      "source": [
        "# check จำนวน InvoiceNO ที่มี format ไม่ตรงกับที่กำหนดโดยใช้ rlike\n",
        "retail_data.where(~retail_data[\"InvoiceNo\"].rlike(\"^[0-9]{6}$\")).count()"
      ],
      "metadata": {
        "colab": {
          "base_uri": "https://localhost:8080/"
        },
        "id": "FI8nXTgnwv_0",
        "outputId": "47650afc-9e71-4614-8f50-fa1916980511"
      },
      "execution_count": null,
      "outputs": [
        {
          "output_type": "execute_result",
          "data": {
            "text/plain": [
              "9291"
            ]
          },
          "metadata": {},
          "execution_count": 35
        }
      ]
    },
    {
      "cell_type": "code",
      "source": [
        "# check  InvoiceNO ที่มี format ไม่ตรงกับที่กำหนดโดยใช้ rlike\n",
        "retail_data.where(~retail_data[\"InvoiceNo\"].rlike(\"^[0-9]{6}$\")).show()"
      ],
      "metadata": {
        "id": "ZHZ47a2dxc_h"
      },
      "execution_count": null,
      "outputs": []
    },
    {
      "cell_type": "code",
      "source": [
        "# ลองใช้ sparksql  \n",
        "retail_data.createOrReplaceTempView(\"data\")\n",
        "retail_sql = spark.sql(\"SELECT * FROM data\")\n",
        "retail_sql.show()"
      ],
      "metadata": {
        "id": "ogbY3TovsfkN"
      },
      "execution_count": null,
      "outputs": []
    },
    {
      "cell_type": "code",
      "source": [
        "# บันทึก InvoiceNO ที่มี format ไม่ตรง\n",
        "invoice_notmatch = spark.sql(\"SELECT * FROM data WHERE InvoiceNo NOT RLIKE '^[0-9]{6}$' \")"
      ],
      "metadata": {
        "id": "YNrO5tbksveW"
      },
      "execution_count": 24,
      "outputs": []
    },
    {
      "cell_type": "code",
      "source": [
        "# นับจำนวน InvoiceNO ที่มี format ไม่ตรง\n",
        "invoice_notmatch.count()"
      ],
      "metadata": {
        "colab": {
          "base_uri": "https://localhost:8080/"
        },
        "id": "5anu0lvI9oV4",
        "outputId": "93345101-4cdf-49e0-c39c-bc5b21176173"
      },
      "execution_count": null,
      "outputs": [
        {
          "output_type": "execute_result",
          "data": {
            "text/plain": [
              "9291"
            ]
          },
          "metadata": {},
          "execution_count": 35
        }
      ]
    },
    {
      "cell_type": "code",
      "source": [
        "# แสดง InvoiceNO ที่มี format ไม่ตรง\n",
        "invoice_notmatch.show()"
      ],
      "metadata": {
        "id": "ptgieNp6tfs5"
      },
      "execution_count": null,
      "outputs": []
    },
    {
      "cell_type": "code",
      "source": [
        "# check จำนวน StockCode ที่มี format ตรงกับที่กำหนดโดยใช้ rlike\n",
        "retail_data.where(retail_data[\"StockCode\"].rlike(\"^[0-9]{5}$\")).count()"
      ],
      "metadata": {
        "colab": {
          "base_uri": "https://localhost:8080/"
        },
        "id": "8k0Lg6F19FlK",
        "outputId": "546227d2-efc8-4d0b-9c03-5321826821a9"
      },
      "execution_count": null,
      "outputs": [
        {
          "output_type": "execute_result",
          "data": {
            "text/plain": [
              "487036"
            ]
          },
          "metadata": {},
          "execution_count": 37
        }
      ]
    },
    {
      "cell_type": "code",
      "source": [
        "# check StockCode ที่มี format ตรงกับที่กำหนดโดยใช้ rlike\n",
        "retail_data.select('StockCode').show()"
      ],
      "metadata": {
        "id": "LbwXlcBu8zHI"
      },
      "execution_count": null,
      "outputs": []
    },
    {
      "cell_type": "code",
      "source": [
        "# บันทึก StockCode ที่มี format ไม่ตรง\n",
        "stock_notmatch = spark.sql(\"SELECT * FROM data WHERE StockCode NOT RLIKE '^[0-9]{5}$' \")"
      ],
      "metadata": {
        "id": "GzzqmWiS8q12"
      },
      "execution_count": null,
      "outputs": []
    },
    {
      "cell_type": "code",
      "source": [
        "# นับจำนวน StockCode ที่มี format ไม่ตรง\n",
        "stock_notmatch.count()"
      ],
      "metadata": {
        "colab": {
          "base_uri": "https://localhost:8080/"
        },
        "id": "-Cy3y2VF9eWx",
        "outputId": "2342af99-8f75-4528-825f-adefbe77d630"
      },
      "execution_count": null,
      "outputs": [
        {
          "output_type": "execute_result",
          "data": {
            "text/plain": [
              "54873"
            ]
          },
          "metadata": {},
          "execution_count": 39
        }
      ]
    },
    {
      "cell_type": "code",
      "source": [
        "# check StockCode ที่มี format ไม่ตรง\n",
        "stock_notmatch.show()"
      ],
      "metadata": {
        "id": "9fmbEBpr9WDa"
      },
      "execution_count": null,
      "outputs": []
    },
    {
      "cell_type": "markdown",
      "source": [
        "# **Data Cleansing with Spark**"
      ],
      "metadata": {
        "id": "2ObZrviP-Vrr"
      }
    },
    {
      "cell_type": "markdown",
      "source": [
        "**แปลง Datatype ให้ตรงกับความต้องการ**"
      ],
      "metadata": {
        "id": "JXX1zVo4ONX8"
      }
    },
    {
      "cell_type": "code",
      "source": [
        "retail_data.printSchema()"
      ],
      "metadata": {
        "colab": {
          "base_uri": "https://localhost:8080/"
        },
        "id": "c3nFx8EY-RBh",
        "outputId": "140308e8-0c4c-4911-822d-08184744c412"
      },
      "execution_count": 26,
      "outputs": [
        {
          "output_type": "stream",
          "name": "stdout",
          "text": [
            "root\n",
            " |-- InvoiceNo: string (nullable = true)\n",
            " |-- StockCode: string (nullable = true)\n",
            " |-- Description: string (nullable = true)\n",
            " |-- Quantity: integer (nullable = true)\n",
            " |-- InvoiceDate: string (nullable = true)\n",
            " |-- UnitPrice: double (nullable = true)\n",
            " |-- CustomerID: double (nullable = true)\n",
            " |-- Country: string (nullable = true)\n",
            "\n"
          ]
        }
      ]
    },
    {
      "cell_type": "markdown",
      "source": [
        "มี 2 column ที่ต้องการเปลี่ยน Datatype นั่นคือ InvoiceDate ที่ควรจะเป็น timestamp และ CustomerID ที่ควรจะเป็น string"
      ],
      "metadata": {
        "id": "9_ds1CwjOexy"
      }
    },
    {
      "cell_type": "code",
      "source": [
        "# check InvoiceDate\n",
        "retail_data.select('InvoiceDate').show()"
      ],
      "metadata": {
        "id": "HPlA7mAoPAJI"
      },
      "execution_count": null,
      "outputs": []
    },
    {
      "cell_type": "code",
      "source": [
        "retail_data.select('InvoiceDate').distinct().show()"
      ],
      "metadata": {
        "id": "kBJTlFDoSjaE"
      },
      "execution_count": null,
      "outputs": []
    },
    {
      "cell_type": "code",
      "source": [
        "# เปลี่ยน format ของ InvoiceDate ให้ตรงกับความต้องการ\n",
        "from pyspark.sql import functions as f\n",
        "from pyspark.sql.functions import date_format, to_timestamp"
      ],
      "metadata": {
        "id": "sQvP1AjxPcxZ"
      },
      "execution_count": 34,
      "outputs": []
    },
    {
      "cell_type": "code",
      "source": [
        "# สร้าง column split ที่นำ column InvoiceDate มาแยกวันที่กับเวลาออก\n",
        "retail_data_update = retail_data.withColumn('split', f.split('InvoiceDate', ' '))"
      ],
      "metadata": {
        "id": "n2XGak3hP5MZ"
      },
      "execution_count": 28,
      "outputs": []
    },
    {
      "cell_type": "code",
      "source": [
        "retail_data_update.show()"
      ],
      "metadata": {
        "colab": {
          "base_uri": "https://localhost:8080/"
        },
        "id": "bmv2e1dPUwue",
        "outputId": "f48c07f2-0928-4447-e393-e7f0242a6464"
      },
      "execution_count": 29,
      "outputs": [
        {
          "output_type": "stream",
          "name": "stdout",
          "text": [
            "+---------+---------+--------------------+--------+--------------+---------+----------+--------------+-----------------+\n",
            "|InvoiceNo|StockCode|         Description|Quantity|   InvoiceDate|UnitPrice|CustomerID|       Country|            split|\n",
            "+---------+---------+--------------------+--------+--------------+---------+----------+--------------+-----------------+\n",
            "|   536365|   85123A|WHITE HANGING HEA...|       6|12/1/2010 8:26|     2.55|   17850.0|United Kingdom|[12/1/2010, 8:26]|\n",
            "|   536365|    71053| WHITE METAL LANTERN|       6|12/1/2010 8:26|     3.39|   17850.0|United Kingdom|[12/1/2010, 8:26]|\n",
            "|   536365|   84406B|CREAM CUPID HEART...|       8|12/1/2010 8:26|     2.75|   17850.0|United Kingdom|[12/1/2010, 8:26]|\n",
            "|   536365|   84029G|KNITTED UNION FLA...|       6|12/1/2010 8:26|     3.39|   17850.0|United Kingdom|[12/1/2010, 8:26]|\n",
            "|   536365|   84029E|RED WOOLLY HOTTIE...|       6|12/1/2010 8:26|     3.39|   17850.0|United Kingdom|[12/1/2010, 8:26]|\n",
            "|   536365|    22752|SET 7 BABUSHKA NE...|       2|12/1/2010 8:26|     7.65|   17850.0|United Kingdom|[12/1/2010, 8:26]|\n",
            "|   536365|    21730|GLASS STAR FROSTE...|       6|12/1/2010 8:26|     4.25|   17850.0|United Kingdom|[12/1/2010, 8:26]|\n",
            "|   536366|    22633|HAND WARMER UNION...|       6|12/1/2010 8:28|     1.85|   17850.0|United Kingdom|[12/1/2010, 8:28]|\n",
            "|   536366|    22632|HAND WARMER RED P...|       6|12/1/2010 8:28|     1.85|   17850.0|United Kingdom|[12/1/2010, 8:28]|\n",
            "|   536367|    84879|ASSORTED COLOUR B...|      32|12/1/2010 8:34|     1.69|   13047.0|United Kingdom|[12/1/2010, 8:34]|\n",
            "|   536367|    22745|POPPY'S PLAYHOUSE...|       6|12/1/2010 8:34|      2.1|   13047.0|United Kingdom|[12/1/2010, 8:34]|\n",
            "|   536367|    22748|POPPY'S PLAYHOUSE...|       6|12/1/2010 8:34|      2.1|   13047.0|United Kingdom|[12/1/2010, 8:34]|\n",
            "|   536367|    22749|FELTCRAFT PRINCES...|       8|12/1/2010 8:34|     3.75|   13047.0|United Kingdom|[12/1/2010, 8:34]|\n",
            "|   536367|    22310|IVORY KNITTED MUG...|       6|12/1/2010 8:34|     1.65|   13047.0|United Kingdom|[12/1/2010, 8:34]|\n",
            "|   536367|    84969|BOX OF 6 ASSORTED...|       6|12/1/2010 8:34|     4.25|   13047.0|United Kingdom|[12/1/2010, 8:34]|\n",
            "|   536367|    22623|BOX OF VINTAGE JI...|       3|12/1/2010 8:34|     4.95|   13047.0|United Kingdom|[12/1/2010, 8:34]|\n",
            "|   536367|    22622|BOX OF VINTAGE AL...|       2|12/1/2010 8:34|     9.95|   13047.0|United Kingdom|[12/1/2010, 8:34]|\n",
            "|   536367|    21754|HOME BUILDING BLO...|       3|12/1/2010 8:34|     5.95|   13047.0|United Kingdom|[12/1/2010, 8:34]|\n",
            "|   536367|    21755|LOVE BUILDING BLO...|       3|12/1/2010 8:34|     5.95|   13047.0|United Kingdom|[12/1/2010, 8:34]|\n",
            "|   536367|    21777|RECIPE BOX WITH M...|       4|12/1/2010 8:34|     7.95|   13047.0|United Kingdom|[12/1/2010, 8:34]|\n",
            "+---------+---------+--------------------+--------+--------------+---------+----------+--------------+-----------------+\n",
            "only showing top 20 rows\n",
            "\n"
          ]
        }
      ]
    },
    {
      "cell_type": "code",
      "source": [
        "# สร้าง table ใหม่ชื่อว่า retail_data_update โดยเพิ่ม column datetime ที่นำข้อมูลวันที่จาก column InvoiceDate มา\n",
        "retail_data_update = retail_data_update.withColumn('datetime', f.col('split').getItem(0))\n",
        "retail_data_update = retail_data_update.withColumn(\"datetime\",\n",
        "                        f.to_date(retail_data_update.datetime, 'M/d/yyyy'))\n"
      ],
      "metadata": {
        "id": "OE8AHkihQ6hl"
      },
      "execution_count": 30,
      "outputs": []
    },
    {
      "cell_type": "code",
      "source": [
        "retail_data_update.show()"
      ],
      "metadata": {
        "id": "x8_0l_hzRd6C"
      },
      "execution_count": null,
      "outputs": []
    },
    {
      "cell_type": "code",
      "source": [
        "# สร้าง column time โดยใช้ column เวลาใน column split มาสร้าง\n",
        "retail_data_update = retail_data_update.withColumn('time', f.col('split').getItem(1))"
      ],
      "metadata": {
        "id": "_fW5BhN1U7Z-"
      },
      "execution_count": 32,
      "outputs": []
    },
    {
      "cell_type": "code",
      "source": [
        "retail_data_update.show()"
      ],
      "metadata": {
        "id": "xGfBB-ZuWSDD"
      },
      "execution_count": null,
      "outputs": []
    },
    {
      "cell_type": "code",
      "source": [
        "# เปลี่ยน format ของ time เป็น HH:mm:ss\n",
        "retail_data_update = retail_data_update.withColumn('time', date_format('time', 'HH:mm:ss'))"
      ],
      "metadata": {
        "id": "aW3Pp1m9Eai6"
      },
      "execution_count": 35,
      "outputs": []
    },
    {
      "cell_type": "code",
      "source": [
        "# drop column InvoiceDate กับ split\n",
        "retail_data_update = retail_data_update.drop(\"InvoiceDate\",\"split\")"
      ],
      "metadata": {
        "id": "j_lwD4xlWVob"
      },
      "execution_count": 36,
      "outputs": []
    },
    {
      "cell_type": "code",
      "source": [
        "# สร้าง column timestamp โดยใช้ column datetime มาต่อกับ column time\n",
        "retail_data_update = retail_data_update.withColumn('timestamp', f.concat('datetime', f.lit(' '), 'time'))"
      ],
      "metadata": {
        "id": "L_JE_QaFXdDz"
      },
      "execution_count": 37,
      "outputs": []
    },
    {
      "cell_type": "code",
      "source": [
        "retail_data_update.show()"
      ],
      "metadata": {
        "colab": {
          "base_uri": "https://localhost:8080/"
        },
        "id": "HP45w_zBXoUf",
        "outputId": "5ea1ff47-f951-4edc-be93-55c9fec0797c"
      },
      "execution_count": 38,
      "outputs": [
        {
          "output_type": "stream",
          "name": "stdout",
          "text": [
            "+---------+---------+--------------------+--------+---------+----------+--------------+----------+--------+-------------------+\n",
            "|InvoiceNo|StockCode|         Description|Quantity|UnitPrice|CustomerID|       Country|  datetime|    time|          timestamp|\n",
            "+---------+---------+--------------------+--------+---------+----------+--------------+----------+--------+-------------------+\n",
            "|   536365|   85123A|WHITE HANGING HEA...|       6|     2.55|   17850.0|United Kingdom|2010-12-01|08:26:00|2010-12-01 08:26:00|\n",
            "|   536365|    71053| WHITE METAL LANTERN|       6|     3.39|   17850.0|United Kingdom|2010-12-01|08:26:00|2010-12-01 08:26:00|\n",
            "|   536365|   84406B|CREAM CUPID HEART...|       8|     2.75|   17850.0|United Kingdom|2010-12-01|08:26:00|2010-12-01 08:26:00|\n",
            "|   536365|   84029G|KNITTED UNION FLA...|       6|     3.39|   17850.0|United Kingdom|2010-12-01|08:26:00|2010-12-01 08:26:00|\n",
            "|   536365|   84029E|RED WOOLLY HOTTIE...|       6|     3.39|   17850.0|United Kingdom|2010-12-01|08:26:00|2010-12-01 08:26:00|\n",
            "|   536365|    22752|SET 7 BABUSHKA NE...|       2|     7.65|   17850.0|United Kingdom|2010-12-01|08:26:00|2010-12-01 08:26:00|\n",
            "|   536365|    21730|GLASS STAR FROSTE...|       6|     4.25|   17850.0|United Kingdom|2010-12-01|08:26:00|2010-12-01 08:26:00|\n",
            "|   536366|    22633|HAND WARMER UNION...|       6|     1.85|   17850.0|United Kingdom|2010-12-01|08:28:00|2010-12-01 08:28:00|\n",
            "|   536366|    22632|HAND WARMER RED P...|       6|     1.85|   17850.0|United Kingdom|2010-12-01|08:28:00|2010-12-01 08:28:00|\n",
            "|   536367|    84879|ASSORTED COLOUR B...|      32|     1.69|   13047.0|United Kingdom|2010-12-01|08:34:00|2010-12-01 08:34:00|\n",
            "|   536367|    22745|POPPY'S PLAYHOUSE...|       6|      2.1|   13047.0|United Kingdom|2010-12-01|08:34:00|2010-12-01 08:34:00|\n",
            "|   536367|    22748|POPPY'S PLAYHOUSE...|       6|      2.1|   13047.0|United Kingdom|2010-12-01|08:34:00|2010-12-01 08:34:00|\n",
            "|   536367|    22749|FELTCRAFT PRINCES...|       8|     3.75|   13047.0|United Kingdom|2010-12-01|08:34:00|2010-12-01 08:34:00|\n",
            "|   536367|    22310|IVORY KNITTED MUG...|       6|     1.65|   13047.0|United Kingdom|2010-12-01|08:34:00|2010-12-01 08:34:00|\n",
            "|   536367|    84969|BOX OF 6 ASSORTED...|       6|     4.25|   13047.0|United Kingdom|2010-12-01|08:34:00|2010-12-01 08:34:00|\n",
            "|   536367|    22623|BOX OF VINTAGE JI...|       3|     4.95|   13047.0|United Kingdom|2010-12-01|08:34:00|2010-12-01 08:34:00|\n",
            "|   536367|    22622|BOX OF VINTAGE AL...|       2|     9.95|   13047.0|United Kingdom|2010-12-01|08:34:00|2010-12-01 08:34:00|\n",
            "|   536367|    21754|HOME BUILDING BLO...|       3|     5.95|   13047.0|United Kingdom|2010-12-01|08:34:00|2010-12-01 08:34:00|\n",
            "|   536367|    21755|LOVE BUILDING BLO...|       3|     5.95|   13047.0|United Kingdom|2010-12-01|08:34:00|2010-12-01 08:34:00|\n",
            "|   536367|    21777|RECIPE BOX WITH M...|       4|     7.95|   13047.0|United Kingdom|2010-12-01|08:34:00|2010-12-01 08:34:00|\n",
            "+---------+---------+--------------------+--------+---------+----------+--------------+----------+--------+-------------------+\n",
            "only showing top 20 rows\n",
            "\n"
          ]
        }
      ]
    },
    {
      "cell_type": "code",
      "source": [
        "# drop column time และ datetime\n",
        "retail_data_update = retail_data_update.drop(\"time\").drop(\"datetime\")"
      ],
      "metadata": {
        "id": "DcNmxruZYpMZ"
      },
      "execution_count": 39,
      "outputs": []
    },
    {
      "cell_type": "code",
      "source": [
        "# เปลี่ยน format timestamp เป็น yyyy-MM-dd HH:mm:ss\n",
        "retail_data_update = retail_data_update.withColumn(\"timestamp\",\n",
        "                        f.to_timestamp(\"timestamp\", 'yyyy-MM-dd HH:mm:ss')\n",
        "                        )"
      ],
      "metadata": {
        "id": "C4C8XJTmE3e2"
      },
      "execution_count": 40,
      "outputs": []
    },
    {
      "cell_type": "code",
      "source": [
        "retail_data_update.show()"
      ],
      "metadata": {
        "colab": {
          "base_uri": "https://localhost:8080/"
        },
        "id": "ylmLF3N0b3kJ",
        "outputId": "9c4a1972-2565-4a6f-a32b-621c1cedae23"
      },
      "execution_count": 41,
      "outputs": [
        {
          "output_type": "stream",
          "name": "stdout",
          "text": [
            "+---------+---------+--------------------+--------+---------+----------+--------------+-------------------+\n",
            "|InvoiceNo|StockCode|         Description|Quantity|UnitPrice|CustomerID|       Country|          timestamp|\n",
            "+---------+---------+--------------------+--------+---------+----------+--------------+-------------------+\n",
            "|   536365|   85123A|WHITE HANGING HEA...|       6|     2.55|   17850.0|United Kingdom|2010-12-01 08:26:00|\n",
            "|   536365|    71053| WHITE METAL LANTERN|       6|     3.39|   17850.0|United Kingdom|2010-12-01 08:26:00|\n",
            "|   536365|   84406B|CREAM CUPID HEART...|       8|     2.75|   17850.0|United Kingdom|2010-12-01 08:26:00|\n",
            "|   536365|   84029G|KNITTED UNION FLA...|       6|     3.39|   17850.0|United Kingdom|2010-12-01 08:26:00|\n",
            "|   536365|   84029E|RED WOOLLY HOTTIE...|       6|     3.39|   17850.0|United Kingdom|2010-12-01 08:26:00|\n",
            "|   536365|    22752|SET 7 BABUSHKA NE...|       2|     7.65|   17850.0|United Kingdom|2010-12-01 08:26:00|\n",
            "|   536365|    21730|GLASS STAR FROSTE...|       6|     4.25|   17850.0|United Kingdom|2010-12-01 08:26:00|\n",
            "|   536366|    22633|HAND WARMER UNION...|       6|     1.85|   17850.0|United Kingdom|2010-12-01 08:28:00|\n",
            "|   536366|    22632|HAND WARMER RED P...|       6|     1.85|   17850.0|United Kingdom|2010-12-01 08:28:00|\n",
            "|   536367|    84879|ASSORTED COLOUR B...|      32|     1.69|   13047.0|United Kingdom|2010-12-01 08:34:00|\n",
            "|   536367|    22745|POPPY'S PLAYHOUSE...|       6|      2.1|   13047.0|United Kingdom|2010-12-01 08:34:00|\n",
            "|   536367|    22748|POPPY'S PLAYHOUSE...|       6|      2.1|   13047.0|United Kingdom|2010-12-01 08:34:00|\n",
            "|   536367|    22749|FELTCRAFT PRINCES...|       8|     3.75|   13047.0|United Kingdom|2010-12-01 08:34:00|\n",
            "|   536367|    22310|IVORY KNITTED MUG...|       6|     1.65|   13047.0|United Kingdom|2010-12-01 08:34:00|\n",
            "|   536367|    84969|BOX OF 6 ASSORTED...|       6|     4.25|   13047.0|United Kingdom|2010-12-01 08:34:00|\n",
            "|   536367|    22623|BOX OF VINTAGE JI...|       3|     4.95|   13047.0|United Kingdom|2010-12-01 08:34:00|\n",
            "|   536367|    22622|BOX OF VINTAGE AL...|       2|     9.95|   13047.0|United Kingdom|2010-12-01 08:34:00|\n",
            "|   536367|    21754|HOME BUILDING BLO...|       3|     5.95|   13047.0|United Kingdom|2010-12-01 08:34:00|\n",
            "|   536367|    21755|LOVE BUILDING BLO...|       3|     5.95|   13047.0|United Kingdom|2010-12-01 08:34:00|\n",
            "|   536367|    21777|RECIPE BOX WITH M...|       4|     7.95|   13047.0|United Kingdom|2010-12-01 08:34:00|\n",
            "+---------+---------+--------------------+--------+---------+----------+--------------+-------------------+\n",
            "only showing top 20 rows\n",
            "\n"
          ]
        }
      ]
    },
    {
      "cell_type": "code",
      "source": [
        "# check datype ของ column timestamp\n",
        "retail_data_update.printSchema()"
      ],
      "metadata": {
        "id": "_gOZoXK2SmU-"
      },
      "execution_count": null,
      "outputs": []
    },
    {
      "cell_type": "code",
      "source": [
        "retail_data_update.show()"
      ],
      "metadata": {
        "id": "RsQr82zJY8rI"
      },
      "execution_count": null,
      "outputs": []
    },
    {
      "cell_type": "markdown",
      "source": [
        "# **สมมุติว่า InvoiceDate ควรจะมีแค่ 6 หลักและมีแค่ตัวเลขเท่านั้น**\n"
      ],
      "metadata": {
        "id": "h25sEu_QehcR"
      }
    },
    {
      "cell_type": "code",
      "source": [
        "# นับจำนวน InvoiceNo ที่ตรง format\n",
        "retail_data_update.where(retail_data_update[\"InvoiceNo\"].rlike(\"^[0-9]{6}$\")).count()"
      ],
      "metadata": {
        "colab": {
          "base_uri": "https://localhost:8080/"
        },
        "id": "zNuadhwVeRyT",
        "outputId": "690f2694-c3bd-49d6-a735-be59d9221b0c"
      },
      "execution_count": null,
      "outputs": [
        {
          "output_type": "execute_result",
          "data": {
            "text/plain": [
              "532618"
            ]
          },
          "metadata": {},
          "execution_count": 114
        }
      ]
    },
    {
      "cell_type": "code",
      "source": [
        "# สร้าง tempview เพื่อที่จะใช้ sparksql\n",
        "retail_data_update.createOrReplaceTempView(\"retail_data_sql\")\n",
        "retail_data_update_sql = spark.sql(\"SELECT * FROM retail_data_sql\")\n",
        "retail_data_update_sql.show()"
      ],
      "metadata": {
        "id": "2QI6mAfhi1RQ"
      },
      "execution_count": null,
      "outputs": []
    },
    {
      "cell_type": "code",
      "source": [
        "# แยก InvoiceNO ที่ไม่ตรง format\n",
        "retail_data_incorrectIn  = spark.sql(\"select * from retail_data_sql where InvoiceNo NOT REGEXP '^[0-9]{6}$'\")\n"
      ],
      "metadata": {
        "id": "mGlpakUVk-TY"
      },
      "execution_count": null,
      "outputs": []
    },
    {
      "cell_type": "markdown",
      "source": [],
      "metadata": {
        "id": "gFgA0iSXl77V"
      }
    },
    {
      "cell_type": "code",
      "source": [
        "# นับจำนวน InvoiceNO ที่ไม่ตรง format\n",
        "retail_data_incorrectIn.count()"
      ],
      "metadata": {
        "colab": {
          "base_uri": "https://localhost:8080/"
        },
        "id": "uXFBJTCnlJ6o",
        "outputId": "0f0aa590-9616-42c2-dcd9-577b07894f31"
      },
      "execution_count": null,
      "outputs": [
        {
          "output_type": "execute_result",
          "data": {
            "text/plain": [
              "9291"
            ]
          },
          "metadata": {},
          "execution_count": 117
        }
      ]
    },
    {
      "cell_type": "code",
      "source": [
        "# check format ของข้อมูลที่ไม่ตรง format\n",
        "retail_data_incorrectIn.show()"
      ],
      "metadata": {
        "id": "-M0gPDer0O0u"
      },
      "execution_count": null,
      "outputs": []
    },
    {
      "cell_type": "markdown",
      "source": [
        "# **ซึ่งข้อมูลที่ไม่ตรง format นั้นมีอยู่ pattern เดียวคือ มี C นำหน้าและตามด้วยตัวเลข 6 หลัก**"
      ],
      "metadata": {
        "id": "aU8rDZ010YpF"
      }
    },
    {
      "cell_type": "markdown",
      "source": [
        "# **สมมุติว่าให้ข้อมูล InvoiceNo ที่ไม่ตรงนั้นให้ทำการนำ C ออกให้หมด**"
      ],
      "metadata": {
        "id": "jw4jqbOsUYMV"
      }
    },
    {
      "cell_type": "code",
      "source": [
        "from pyspark.sql.functions import when,substring,concat_ws,upper,col,lower,trim"
      ],
      "metadata": {
        "id": "PmLrw27Fm2lp"
      },
      "execution_count": 45,
      "outputs": []
    },
    {
      "cell_type": "code",
      "source": [
        "# สร้าง column ใหม่ชื่อว่า InvoiceNoUpdate โดยจะนำข้อมูลจาก column InvoiceNo ที่มี format ไม่ตรงนำ C ออกและเก็บแค่ตัวเลข 6 หลักด้านหลังไว้\n",
        "retail_data_update = retail_data_update.withColumn(\"InvoiceNoUpdate\", \n",
        "    when(retail_data_update['InvoiceNo'].rlike(\"^C[0-9]{6}$\"), \n",
        "         f.regexp_replace(retail_data_update['InvoiceNo'], \"^C([0-9]{6})$\", \"$1\")\n",
        "        ).otherwise(retail_data_update['InvoiceNo'])\n",
        ")\n"
      ],
      "metadata": {
        "id": "hT8b9ElVwx7D"
      },
      "execution_count": 46,
      "outputs": []
    },
    {
      "cell_type": "code",
      "source": [
        "# drop column InvoiceNO และเปลี่ยนชื่อ InvoiceNoupdate เป็น InvoiceNO\n",
        "retail_data_update = retail_data_update.drop(\"InvoiceNo\").withColumnRenamed('InvoiceNoUpdate', 'InvoiceNo')"
      ],
      "metadata": {
        "id": "pUz__8JOxxsz"
      },
      "execution_count": 47,
      "outputs": []
    },
    {
      "cell_type": "code",
      "source": [
        "# trim column\n",
        "retail_data_update = retail_data_update.withColumn('InvoiceNO', trim(retail_data_update['InvoiceNo']))"
      ],
      "metadata": {
        "id": "Kl5JTLqUFvfQ"
      },
      "execution_count": 48,
      "outputs": []
    },
    {
      "cell_type": "code",
      "source": [
        "# นับจำนวนข้อมูลที่ตรง format\n",
        "retail_data_update.filter(retail_data_update[\"InvoiceNo\"].rlike(\"^[0-9]{6}$\")).count()"
      ],
      "metadata": {
        "colab": {
          "base_uri": "https://localhost:8080/"
        },
        "id": "_Y5GphASxqEY",
        "outputId": "fc5aeffd-1131-467c-93e9-c016a83493ac"
      },
      "execution_count": 49,
      "outputs": [
        {
          "output_type": "execute_result",
          "data": {
            "text/plain": [
              "541906"
            ]
          },
          "metadata": {},
          "execution_count": 49
        }
      ]
    },
    {
      "cell_type": "code",
      "source": [
        "retail_data_update.show()"
      ],
      "metadata": {
        "id": "LvL3tDw2y68d"
      },
      "execution_count": null,
      "outputs": []
    },
    {
      "cell_type": "code",
      "source": [
        "# check InvoiceNo ทีไม่ตรง format\n",
        "retail_data_update.filter(retail_data_update[\"InvoiceNo\"].rlike(\"^C[0-9]{6}$\")).count()"
      ],
      "metadata": {
        "colab": {
          "base_uri": "https://localhost:8080/"
        },
        "id": "OrWwbvvIV3sC",
        "outputId": "37c6530d-6ebc-47ce-842a-a322739fcf28"
      },
      "execution_count": null,
      "outputs": [
        {
          "output_type": "execute_result",
          "data": {
            "text/plain": [
              "0"
            ]
          },
          "metadata": {},
          "execution_count": 205
        }
      ]
    },
    {
      "cell_type": "code",
      "source": [
        "retail_data_update.summary().show()"
      ],
      "metadata": {
        "id": "5wyl5u9azatT"
      },
      "execution_count": null,
      "outputs": []
    },
    {
      "cell_type": "markdown",
      "source": [
        "# **เมื่อสำรวจดูพบว่า Quantity ติดลบ**"
      ],
      "metadata": {
        "id": "toNiUHQBGOSO"
      }
    },
    {
      "cell_type": "code",
      "source": [
        "# ดูข้อมูล Quantity ที่น้อยกว่า 0\n",
        "retail_data_update.where(retail_data_update['Quantity'] < 0).show()"
      ],
      "metadata": {
        "id": "H0G4CwEPz4Q_"
      },
      "execution_count": null,
      "outputs": []
    },
    {
      "cell_type": "code",
      "source": [
        "# นับข้อมูล Quantity ที่น้อยกว่า 0\n",
        "retail_data_update.where(retail_data_update['Quantity'] < 0).count()"
      ],
      "metadata": {
        "colab": {
          "base_uri": "https://localhost:8080/"
        },
        "id": "tFM4onhv00hs",
        "outputId": "44ba58b5-0679-4721-8900-2b7bfc0155a5"
      },
      "execution_count": null,
      "outputs": [
        {
          "output_type": "execute_result",
          "data": {
            "text/plain": [
              "10624"
            ]
          },
          "metadata": {},
          "execution_count": 127
        }
      ]
    },
    {
      "cell_type": "markdown",
      "source": [
        "# **สมมุติว่าข้อมูลที่ติดลบนั้นเกิดจากการที่ระบบผิดพลาด ควรจะเป็นบวกทั้งหมด**"
      ],
      "metadata": {
        "id": "jnS7-Ko4WZxV"
      }
    },
    {
      "cell_type": "code",
      "source": [
        "# สร้าง column ใหม่ชื่อว่า QuantityUpdate ที่นับข้อมูลจาก column Quantity โดยเมื่อข้อมูลจาก Quantity เป็นลบจะทำการเปลี่ยนเป็นบวกโดยคูณ -1\n",
        "retail_data_update = retail_data_update.withColumn(\"QuantityUpdate\", when(retail_data_update['Quantity'] < 0, retail_data_update['Quantity']*-1).otherwise(retail_data_update['Quantity']))"
      ],
      "metadata": {
        "id": "VLtAUfkK1AAN"
      },
      "execution_count": 51,
      "outputs": []
    },
    {
      "cell_type": "code",
      "source": [
        "# drop column Quantity และเปลี่ยนชื่อ QuantityUpdate เป็น Quantity\n",
        "retail_data_update = retail_data_update.drop(\"Quantity\").withColumnRenamed('QuantityUpdate', 'Quantity')"
      ],
      "metadata": {
        "id": "HNJtwrk51z3C"
      },
      "execution_count": 52,
      "outputs": []
    },
    {
      "cell_type": "code",
      "source": [
        "# นับจำนวน quantity ที่น้อยกว่า 0\n",
        "retail_data_update.where(retail_data_update['Quantity'] < 0).count()"
      ],
      "metadata": {
        "colab": {
          "base_uri": "https://localhost:8080/"
        },
        "id": "e-5MY9od2Vy0",
        "outputId": "5eb30ffa-684c-4b5b-95bf-acca7ebb634d"
      },
      "execution_count": 53,
      "outputs": [
        {
          "output_type": "execute_result",
          "data": {
            "text/plain": [
              "0"
            ]
          },
          "metadata": {},
          "execution_count": 53
        }
      ]
    },
    {
      "cell_type": "code",
      "source": [
        "retail_data_update.show()"
      ],
      "metadata": {
        "id": "vEp5u_rQ2fR4"
      },
      "execution_count": null,
      "outputs": []
    },
    {
      "cell_type": "markdown",
      "source": [
        "# **เช่นกันกับ UnitPrice ที่ไม่ควรเป็นลบ**"
      ],
      "metadata": {
        "id": "LdVgjJyVXTAO"
      }
    },
    {
      "cell_type": "code",
      "source": [
        "# นับจำนวน UnitPrice ที่ติดลบ \n",
        "retail_data_update.where(retail_data_update['UnitPrice'] < 0).count()"
      ],
      "metadata": {
        "colab": {
          "base_uri": "https://localhost:8080/"
        },
        "id": "x1BMn9FB2quY",
        "outputId": "6b1461de-d1ec-43d1-f36f-92dad49fe102"
      },
      "execution_count": null,
      "outputs": [
        {
          "output_type": "execute_result",
          "data": {
            "text/plain": [
              "2"
            ]
          },
          "metadata": {},
          "execution_count": 210
        }
      ]
    },
    {
      "cell_type": "code",
      "source": [
        "# สร้าง columnใหม่ชื่่อว่า UnitPriceUpdate โดยนำค่าจาก column  UnitPrice ที่ติดลบนั้นเป็นบวกโดยคูณ -1 ถ้าUnitPrice น้อยกว่า 0\n",
        "retail_data_update = retail_data_update.withColumn(\"UnitPriceUpdate\", when(retail_data_update['UnitPrice'] < 0, retail_data_update['UnitPrice']*-1).otherwise(retail_data_update['UnitPrice']))"
      ],
      "metadata": {
        "id": "HBb33Xn03Acj"
      },
      "execution_count": 54,
      "outputs": []
    },
    {
      "cell_type": "code",
      "source": [
        "retail_data_update = retail_data_update.drop(\"UnitPrice\").withColumnRenamed('UnitPriceUpdate', 'UnitPrice')"
      ],
      "metadata": {
        "id": "5Z9S4-273ax8"
      },
      "execution_count": 55,
      "outputs": []
    },
    {
      "cell_type": "code",
      "source": [
        "retail_data_update.where(retail_data_update['UnitPrice'] < 0).count()"
      ],
      "metadata": {
        "id": "m8Uy_Xs43qHu",
        "colab": {
          "base_uri": "https://localhost:8080/"
        },
        "outputId": "50feab5b-d1b9-4a21-edfb-689dd863094a"
      },
      "execution_count": 56,
      "outputs": [
        {
          "output_type": "execute_result",
          "data": {
            "text/plain": [
              "0"
            ]
          },
          "metadata": {},
          "execution_count": 56
        }
      ]
    },
    {
      "cell_type": "code",
      "source": [
        "retail_data_update.show()"
      ],
      "metadata": {
        "id": "pOYumdb33k3c"
      },
      "execution_count": null,
      "outputs": []
    },
    {
      "cell_type": "markdown",
      "source": [
        "# **สำรวจ Format ของ Stockcode**"
      ],
      "metadata": {
        "id": "2cAEZr0a9N5O"
      }
    },
    {
      "cell_type": "code",
      "source": [
        "retail_data_update.select('StockCode').show()"
      ],
      "metadata": {
        "id": "qJGMN8oZ88ti"
      },
      "execution_count": null,
      "outputs": []
    },
    {
      "cell_type": "markdown",
      "source": [
        "# **สมมุติว่า Format ของ StockCode มี 2 แบบที่ถูกต้องคือ 1.ตัวเลข 5 หลักและตามด้วยอักษรภาษาอังกฤษ 1 หลัก Ex. 12345A 2.ตัวเลข 5 หลัก Ex. 12345**"
      ],
      "metadata": {
        "id": "eaYo-__k2g3B"
      }
    },
    {
      "cell_type": "code",
      "source": [
        "# นับจำนวน StockCode ที่มี formatเป็น ตัวเลข 5 หลักและตามด้วยอักษรภาษาอังกฤษ 1 หลัก\n",
        "retail_data_update.filter(retail_data_update[\"StockCode\"].rlike(\"[0-9][0-9][0-9][0-9][0-9][a-zA-Z]$\")).count()"
      ],
      "metadata": {
        "colab": {
          "base_uri": "https://localhost:8080/"
        },
        "id": "ZeIn-WiY9MI3",
        "outputId": "9b0e225a-7dca-4579-daf3-cd9451806bcf"
      },
      "execution_count": null,
      "outputs": [
        {
          "output_type": "execute_result",
          "data": {
            "text/plain": [
              "51488"
            ]
          },
          "metadata": {},
          "execution_count": 215
        }
      ]
    },
    {
      "cell_type": "code",
      "source": [
        "# นับจำนวน StockCode ที่มี formatเป็น ตัวเลข 5 หลัก\n",
        "retail_data_update.filter(retail_data_update[\"StockCode\"].rlike(\"^[0-9]{5}$\")).count()"
      ],
      "metadata": {
        "colab": {
          "base_uri": "https://localhost:8080/"
        },
        "id": "5uhWxR0uyWfE",
        "outputId": "b07a9fe7-46ca-45cd-c18a-fbbcb91f5cbd"
      },
      "execution_count": null,
      "outputs": [
        {
          "output_type": "execute_result",
          "data": {
            "text/plain": [
              "487036"
            ]
          },
          "metadata": {},
          "execution_count": 216
        }
      ]
    },
    {
      "cell_type": "code",
      "source": [
        "# นับจำนวน StockCode ที่ไม่ตรง format\n",
        "retail_data_update.filter(~retail_data_update[\"StockCode\"].rlike(\"^[0-9]{5}$\") & ~retail_data_update[\"StockCode\"].rlike(\"[0-9][0-9][0-9][0-9][0-9][a-zA-Z]$\")).count()"
      ],
      "metadata": {
        "colab": {
          "base_uri": "https://localhost:8080/"
        },
        "id": "xGsIW71b1nd3",
        "outputId": "17554f07-fd49-4fea-9c38-9b93c0d0472c"
      },
      "execution_count": null,
      "outputs": [
        {
          "output_type": "execute_result",
          "data": {
            "text/plain": [
              "3385"
            ]
          },
          "metadata": {},
          "execution_count": 217
        }
      ]
    },
    {
      "cell_type": "code",
      "source": [
        "# ดู StockCode ที่ไม่ตรง format\n",
        "retail_data_update.filter(~retail_data_update[\"StockCode\"].rlike(\"^[0-9]{5}$\") & ~retail_data_update[\"StockCode\"].rlike(\"[0-9][0-9][0-9][0-9][0-9][a-zA-Z]$\")).show(1000)"
      ],
      "metadata": {
        "id": "DULO9zTDAysH"
      },
      "execution_count": null,
      "outputs": []
    },
    {
      "cell_type": "markdown",
      "source": [
        "# **สมมุติว่ามีการแจ้งมาว่า มี format ที่ผิดพลาดจากการที่มีตัวอักษรภาษาอังกฤษเกินมาหนึ่งตัว**"
      ],
      "metadata": {
        "id": "hRrPfg6F39Dt"
      }
    },
    {
      "cell_type": "code",
      "source": [
        "# checkformat ดังกล่าว \n",
        "retail_data_update.filter(retail_data_update[\"StockCode\"].rlike(\"[0-9][0-9][0-9][0-9][0-9][a-zA-Z][a-zA-Z]$\")).show()"
      ],
      "metadata": {
        "id": "9GcI8q6tA4cp"
      },
      "execution_count": null,
      "outputs": []
    },
    {
      "cell_type": "code",
      "source": [
        "# นับ format ดังกล่าว\n",
        "retail_data_update.filter(retail_data_update[\"StockCode\"].rlike(\"[0-9][0-9][0-9][0-9][0-9][a-zA-Z][a-zA-Z]$\")).count()"
      ],
      "metadata": {
        "colab": {
          "base_uri": "https://localhost:8080/"
        },
        "id": "m4up4F_jFtGT",
        "outputId": "f4df2dcf-3d77-4071-80ed-ee392d4e0414"
      },
      "execution_count": null,
      "outputs": [
        {
          "output_type": "execute_result",
          "data": {
            "text/plain": [
              "390"
            ]
          },
          "metadata": {},
          "execution_count": 220
        }
      ]
    },
    {
      "cell_type": "code",
      "source": [
        "# แยก format ดังกล่าวออกเป็นและ label เป็น type 1\n",
        "retail_data_update_incorrect_type1 = retail_data_update.filter(retail_data_update[\"StockCode\"].rlike(\"[0-9][0-9][0-9][0-9][0-9][a-zA-Z][a-zA-Z]$\"))"
      ],
      "metadata": {
        "id": "ufwSL2ltFxpp"
      },
      "execution_count": null,
      "outputs": []
    },
    {
      "cell_type": "code",
      "source": [
        "# ดูรูปแบบทั้งหมดของ type1\n",
        "retail_data_update_incorrect_type1.select('StockCode').distinct().show()"
      ],
      "metadata": {
        "id": "RoTvowB9MjPW"
      },
      "execution_count": null,
      "outputs": []
    },
    {
      "cell_type": "markdown",
      "source": [
        "# **สมมุติว่าได้รับแจ้งมาว่าให้นำตัวอักษรภาษาอังกฤษหลักสุดท้ายออก**"
      ],
      "metadata": {
        "id": "6K8_RgfA4yiJ"
      }
    },
    {
      "cell_type": "code",
      "source": [
        "from pyspark.sql.functions import substring\n",
        "\n",
        "#สร้าง column ใหม่ชื่อว่า StockCodeUpdate โดย copy ข้อมูลจาก column Stockcode  \n",
        "retail_data_update = retail_data_update.withColumn('StockCodeUpdate', \n",
        "    retail_data_update['StockCode']\n",
        ")\n",
        "\n",
        "# อัพเดท column StockCodeUpdate โดยถ้าเจอตัวอักษรภาษาอังกฤษ 2 ตัวด้านหลังสุดของ stockcode ให้นำตัวสุดท้ายออก\n",
        "retail_data_update = retail_data_update.withColumn('StockCodeUpdate', \n",
        "    when(retail_data_update['StockCode'].rlike('[a-zA-Z][a-zA-Z]$'), \n",
        "         substring('StockCodeUpdate', 1, 6)\n",
        "    ).otherwise(retail_data_update['StockCode'])\n",
        ")\n"
      ],
      "metadata": {
        "id": "BBx45rv_OALy"
      },
      "execution_count": 61,
      "outputs": []
    },
    {
      "cell_type": "markdown",
      "source": [
        "# **สมมุติว่าได้รับแจ้งมาว่า ตัวอักษรภาษาอังกฤษหลักสุดท้ายต้องเป็นตัวพิมพ์ใหญ่**"
      ],
      "metadata": {
        "id": "CP62LoY3IzdW"
      }
    },
    {
      "cell_type": "code",
      "source": [
        "# อัพเดท column StockCodeUpdate โดยถ้าเจอตัวอักษรภาษาอังกฤษเป็นตัวพิมพ์เล็กให้เปลี่ยนเป็นตัวพิมพ์ใหญ่\n",
        "retail_data_update = retail_data_update.withColumn(\"StockCodeUpdate\",when(col(\"StockCodeUpdate\").rlike(\"[0-9]{5}[a-z]$\"),concat_ws(\"\", substring(col(\"StockCodeUpdate\"), 1, 5), upper(substring(col(\"StockCodeUpdate\"), -1, 1)))).otherwise(col(\"StockCodeUpdate\")))"
      ],
      "metadata": {
        "id": "2W-QHIU8IL_7"
      },
      "execution_count": 62,
      "outputs": []
    },
    {
      "cell_type": "markdown",
      "source": [
        "# **สมมุติว่าได้รับแจ้งมาว่า ถ้ามีข้อมูลไม่ตรงกับ requirements ที่ผ่านมาให้เปลี่ยนข้อมูลนั้นๆ เป็น 00000**"
      ],
      "metadata": {
        "id": "z3hfs4utJC-W"
      }
    },
    {
      "cell_type": "code",
      "source": [
        "# check ตัวอักษรภาษาอังกฤษตัวสุดท้ายที่เป็นตัวพิมพ์ใหญ่\n",
        "retail_data_update.filter(retail_data_update[\"StockCodeUpdate\"].rlike(\"[0-9][0-9][0-9][0-9][0-9][a-z]$\")).show()"
      ],
      "metadata": {
        "id": "NEHpjdhaLEDs"
      },
      "execution_count": null,
      "outputs": []
    },
    {
      "cell_type": "code",
      "source": [
        "# นับจำนวนตัวอักษรภาษาอังกฤษตัวสุดท้ายที่เป็นตัวพิมพ์ใหญ่\n",
        "retail_data_update.filter(retail_data_update[\"StockCodeUpdate\"].rlike(\"[0-9][0-9][0-9][0-9][0-9][A-Z]$\")).count()"
      ],
      "metadata": {
        "id": "uwAGRtMAKcvI"
      },
      "execution_count": null,
      "outputs": []
    },
    {
      "cell_type": "code",
      "source": [
        "# check ตัวอักษรภาษาอังกฤษตัวสุดท้ายที่เป็นตัวพิมพ์เล็ก\n",
        "retail_data_update.filter(retail_data_update[\"StockCodeUpdate\"].rlike(\"[0-9][0-9][0-9][0-9][0-9][a-z]$\")).show()"
      ],
      "metadata": {
        "id": "bHE8LCctKpRS"
      },
      "execution_count": null,
      "outputs": []
    },
    {
      "cell_type": "code",
      "source": [
        "# นับจำนวน StockCodeUpdate ที่ตัวอักษรภาษาอังกฤษตัวสุดท้ายที่เป็นตัวพิมพ์เล็ก\n",
        "retail_data_update.filter(retail_data_update[\"StockCodeUpdate\"].rlike(\"[0-9][0-9][0-9][0-9][0-9][a-z]$\")).count()"
      ],
      "metadata": {
        "id": "A7_-CQ-LKyFk"
      },
      "execution_count": null,
      "outputs": []
    },
    {
      "cell_type": "code",
      "source": [
        "retail_data_update = retail_data_update.withColumn('StockCodeUpdate',when(~retail_data_update[\"StockCodeUpdate\"].rlike(\"[0-9][0-9][0-9][0-9][0-9][A-Z]$\") & ~retail_data_update[\"StockCodeUpdate\"].rlike(\"[0-9]{5}$\"),'00000').otherwise(retail_data_update['StockCodeUpdate']))"
      ],
      "metadata": {
        "id": "ovB5S4GFI9tJ"
      },
      "execution_count": 63,
      "outputs": []
    },
    {
      "cell_type": "code",
      "source": [
        "retail_data_update = retail_data_update.drop(\"StockCode\").withColumnRenamed('StockCodeUpdate', 'StockCode')"
      ],
      "metadata": {
        "id": "bcNjCLezAqZG"
      },
      "execution_count": 64,
      "outputs": []
    },
    {
      "cell_type": "code",
      "source": [
        "retail_data_update.show()"
      ],
      "metadata": {
        "id": "3E2kqYoeOIIb"
      },
      "execution_count": null,
      "outputs": []
    },
    {
      "cell_type": "code",
      "source": [
        "# check format ที่ผิด\n",
        "retail_data_update.filter(retail_data_update[\"StockCode\"].rlike(\"[0-9][0-9][0-9][0-9][0-9][a-zA-Z][a-zA-Z]$\")).show()\n"
      ],
      "metadata": {
        "colab": {
          "base_uri": "https://localhost:8080/"
        },
        "id": "VFTeXkuBOL4D",
        "outputId": "7b3130da-e81f-4290-b153-332190838291"
      },
      "execution_count": 67,
      "outputs": [
        {
          "output_type": "stream",
          "name": "stdout",
          "text": [
            "+-----------+----------+-------+---------+---------+--------+---------+---------+\n",
            "|Description|CustomerID|Country|timestamp|InvoiceNO|Quantity|UnitPrice|StockCode|\n",
            "+-----------+----------+-------+---------+---------+--------+---------+---------+\n",
            "+-----------+----------+-------+---------+---------+--------+---------+---------+\n",
            "\n"
          ]
        }
      ]
    },
    {
      "cell_type": "code",
      "source": [
        "# check format ที่ถูก\n",
        "retail_data_update.filter(retail_data_update[\"StockCode\"].rlike(\"[0-9][0-9][0-9][0-9][0-9][A-Z]$\")).show()"
      ],
      "metadata": {
        "id": "x_dqL2n_CyKd",
        "colab": {
          "base_uri": "https://localhost:8080/"
        },
        "outputId": "264cca9a-ef3e-4f74-e38a-3fc1ab277bd9"
      },
      "execution_count": 68,
      "outputs": [
        {
          "output_type": "stream",
          "name": "stdout",
          "text": [
            "+--------------------+----------+--------------+-------------------+---------+--------+---------+---------+\n",
            "|         Description|CustomerID|       Country|          timestamp|InvoiceNO|Quantity|UnitPrice|StockCode|\n",
            "+--------------------+----------+--------------+-------------------+---------+--------+---------+---------+\n",
            "|WHITE HANGING HEA...|   17850.0|United Kingdom|2010-12-01 08:26:00|   536365|       6|     2.55|   85123A|\n",
            "|CREAM CUPID HEART...|   17850.0|United Kingdom|2010-12-01 08:26:00|   536365|       8|     2.75|   84406B|\n",
            "|KNITTED UNION FLA...|   17850.0|United Kingdom|2010-12-01 08:26:00|   536365|       6|     3.39|   84029G|\n",
            "|RED WOOLLY HOTTIE...|   17850.0|United Kingdom|2010-12-01 08:26:00|   536365|       6|     3.39|   84029E|\n",
            "|WHITE HANGING HEA...|   17850.0|United Kingdom|2010-12-01 09:02:00|   536373|       6|     2.55|   85123A|\n",
            "|CREAM CUPID HEART...|   17850.0|United Kingdom|2010-12-01 09:02:00|   536373|       8|     2.75|   84406B|\n",
            "|WOODEN FRAME ANTI...|   17850.0|United Kingdom|2010-12-01 09:02:00|   536373|       6|     2.55|   82494L|\n",
            "|KNITTED UNION FLA...|   17850.0|United Kingdom|2010-12-01 09:02:00|   536373|       6|     3.39|   84029G|\n",
            "|RED WOOLLY HOTTIE...|   17850.0|United Kingdom|2010-12-01 09:02:00|   536373|       6|     3.39|   84029E|\n",
            "|WHITE HANGING HEA...|   17850.0|United Kingdom|2010-12-01 09:32:00|   536375|       6|     2.55|   85123A|\n",
            "|CREAM CUPID HEART...|   17850.0|United Kingdom|2010-12-01 09:32:00|   536375|       8|     2.75|   84406B|\n",
            "|WOODEN FRAME ANTI...|   17850.0|United Kingdom|2010-12-01 09:32:00|   536375|       6|     2.55|   82494L|\n",
            "|KNITTED UNION FLA...|   17850.0|United Kingdom|2010-12-01 09:32:00|   536375|       6|     3.39|   84029G|\n",
            "|RED WOOLLY HOTTIE...|   17850.0|United Kingdom|2010-12-01 09:32:00|   536375|       6|     3.39|   84029E|\n",
            "|JUMBO  BAG BAROQU...|   14688.0|United Kingdom|2010-12-01 09:37:00|   536378|      10|     1.95|   85099C|\n",
            "|RED 3 PIECE RETRO...|   14688.0|United Kingdom|2010-12-01 09:37:00|   536378|      12|     3.75|   84997B|\n",
            "|BLUE 3 PIECE POLK...|   14688.0|United Kingdom|2010-12-01 09:37:00|   536378|       6|     3.75|   84997C|\n",
            "|TOMATO CHARLIE+LO...|   14688.0|United Kingdom|2010-12-01 09:37:00|   536378|       6|     2.95|   84519A|\n",
            "|CHARLIE & LOLA WA...|   14688.0|United Kingdom|2010-12-01 09:37:00|   536378|      48|     1.25|   85183B|\n",
            "|RED CHARLIE+LOLA ...|   14688.0|United Kingdom|2010-12-01 09:37:00|   536378|      96|     0.38|   85071B|\n",
            "+--------------------+----------+--------------+-------------------+---------+--------+---------+---------+\n",
            "only showing top 20 rows\n",
            "\n"
          ]
        }
      ]
    },
    {
      "cell_type": "code",
      "source": [
        "# นับ format ที่ถูก 51488+390 (จำนวน formatที่ถูกตอนแรก + จำนวน format ที่พึ่งแก้)\n",
        "retail_data_update.filter(retail_data_update[\"StockCode\"].rlike(\"[0-9][0-9][0-9][0-9][0-9][A-Z]$\")).count()"
      ],
      "metadata": {
        "colab": {
          "base_uri": "https://localhost:8080/"
        },
        "id": "cDoU8zr1DSSD",
        "outputId": "e259d80a-1f06-42d3-a742-d183e00cce0b"
      },
      "execution_count": 69,
      "outputs": [
        {
          "output_type": "execute_result",
          "data": {
            "text/plain": [
              "51878"
            ]
          },
          "metadata": {},
          "execution_count": 69
        }
      ]
    },
    {
      "cell_type": "code",
      "source": [
        "retail_data_update.filter(~retail_data_update[\"StockCode\"].rlike(\"[0-9]{5}[A-Z]$\") & ~retail_data_update[\"StockCode\"].rlike(\"[0-9]{5}$\")).count()"
      ],
      "metadata": {
        "colab": {
          "base_uri": "https://localhost:8080/"
        },
        "id": "yRqJu4N6RFcs",
        "outputId": "a4bb6ffa-cf3a-4e2c-c914-2e7911287524"
      },
      "execution_count": 72,
      "outputs": [
        {
          "output_type": "execute_result",
          "data": {
            "text/plain": [
              "0"
            ]
          },
          "metadata": {},
          "execution_count": 72
        }
      ]
    },
    {
      "cell_type": "code",
      "source": [
        "# นับจำนวนข้อมูลที่ตรง format เป็นเลข 5 หลัก\n",
        "retail_data_update.filter(retail_data_update[\"StockCode\"].rlike(\"[0-9]{5}$\")).count()"
      ],
      "metadata": {
        "colab": {
          "base_uri": "https://localhost:8080/"
        },
        "id": "BZVznepIPHk-",
        "outputId": "55597442-753c-421a-bfb5-30fc9a95f5b8"
      },
      "execution_count": 73,
      "outputs": [
        {
          "output_type": "execute_result",
          "data": {
            "text/plain": [
              "490031"
            ]
          },
          "metadata": {},
          "execution_count": 73
        }
      ]
    },
    {
      "cell_type": "code",
      "source": [
        "# นับจำนวนข้อมูลที่ตรง format เป็นเลข 5 หลัก และตามด้วยตัวอักษรภาษาอังกฤษพิมพ์ใหญ่ 1 ตัว\n",
        "retail_data_update.filter(retail_data_update[\"StockCode\"].rlike(\"[0-9]{5}[A-Z]$\")).count()"
      ],
      "metadata": {
        "colab": {
          "base_uri": "https://localhost:8080/"
        },
        "id": "MCAUOqmTPaSD",
        "outputId": "c41e72ac-e373-42a2-eef4-436e6a80e061"
      },
      "execution_count": 74,
      "outputs": [
        {
          "output_type": "execute_result",
          "data": {
            "text/plain": [
              "51878"
            ]
          },
          "metadata": {},
          "execution_count": 74
        }
      ]
    },
    {
      "cell_type": "markdown",
      "source": [
        "# **รวมทั้งสิ้น 541909 ครบจำนวน**"
      ],
      "metadata": {
        "id": "QvInk_DmMkjz"
      }
    },
    {
      "cell_type": "code",
      "source": [
        "# นับจำนวนที่ข้อมูลที่ไม่ตรง format\n",
        "retail_data_update.filter(~retail_data_update[\"StockCode\"].rlike(\"[0-9][0-9][0-9][0-9][0-9][A-Z]$\") & ~retail_data_update[\"StockCode\"].rlike(\"[0-9]{5}$\")).count()"
      ],
      "metadata": {
        "colab": {
          "base_uri": "https://localhost:8080/"
        },
        "id": "r-NPTsc2Sj5W",
        "outputId": "d9e7de7f-c57e-44f1-f7ea-03032ad7b218"
      },
      "execution_count": 75,
      "outputs": [
        {
          "output_type": "execute_result",
          "data": {
            "text/plain": [
              "0"
            ]
          },
          "metadata": {},
          "execution_count": 75
        }
      ]
    },
    {
      "cell_type": "markdown",
      "source": [
        "\\"
      ],
      "metadata": {
        "id": "YA-eZo1RswxP"
      }
    },
    {
      "cell_type": "code",
      "source": [
        "retail_data_update.show()"
      ],
      "metadata": {
        "id": "GgXubNe4THu_"
      },
      "execution_count": null,
      "outputs": []
    },
    {
      "cell_type": "code",
      "source": [
        "retail_data_update.printSchema()"
      ],
      "metadata": {
        "colab": {
          "base_uri": "https://localhost:8080/"
        },
        "id": "4_qC2XiuRsMH",
        "outputId": "0c6fb823-1041-4717-cf08-8ae63cc27a95"
      },
      "execution_count": 76,
      "outputs": [
        {
          "output_type": "stream",
          "name": "stdout",
          "text": [
            "root\n",
            " |-- Description: string (nullable = true)\n",
            " |-- CustomerID: double (nullable = true)\n",
            " |-- Country: string (nullable = true)\n",
            " |-- timestamp: timestamp (nullable = true)\n",
            " |-- InvoiceNO: string (nullable = true)\n",
            " |-- Quantity: integer (nullable = true)\n",
            " |-- UnitPrice: double (nullable = true)\n",
            " |-- StockCode: string (nullable = true)\n",
            "\n"
          ]
        }
      ]
    },
    {
      "cell_type": "markdown",
      "source": [
        "# **เปลี่ยน Datatype ของ CustomerID เป็น string**"
      ],
      "metadata": {
        "id": "irJ858egR3bv"
      }
    },
    {
      "cell_type": "code",
      "source": [
        "# เนื่องจากข้อมูล customerID เป็น double จึงทำการเปลี่ยนเป็น integer เพื่อลบทศนิยมออก \n",
        "retail_data_update = retail_data_update.withColumn(\"CustomerID\", col(\"CustomerID\").cast(\"integer\"))"
      ],
      "metadata": {
        "id": "aSIpB1YUR1ux"
      },
      "execution_count": 77,
      "outputs": []
    },
    {
      "cell_type": "code",
      "source": [
        "# เปลี่ยน customerid เป็น String \n",
        "retail_data_update = retail_data_update.withColumn(\"CustomerID\", col(\"CustomerID\").cast(\"string\"))"
      ],
      "metadata": {
        "id": "l7smhUWgNzk_"
      },
      "execution_count": 80,
      "outputs": []
    },
    {
      "cell_type": "code",
      "source": [
        "# check จำนวน CustomerID ที่เป็น Null\n",
        "retail_data_update.filter(retail_data_update.CustomerID.isNull()).show()"
      ],
      "metadata": {
        "id": "o_-JfK_mNeZ8"
      },
      "execution_count": null,
      "outputs": []
    },
    {
      "cell_type": "code",
      "source": [
        "retail_data_update.filter(retail_data_update.CustomerID.isNull()).count()"
      ],
      "metadata": {
        "colab": {
          "base_uri": "https://localhost:8080/"
        },
        "id": "5fZV8GlhN_hA",
        "outputId": "c313f845-6203-4caf-9306-c6ed853d4be0"
      },
      "execution_count": 82,
      "outputs": [
        {
          "output_type": "execute_result",
          "data": {
            "text/plain": [
              "135080"
            ]
          },
          "metadata": {},
          "execution_count": 82
        }
      ]
    },
    {
      "cell_type": "markdown",
      "source": [
        "# **สมมุติได้รับแจ้งมาว่า customerid ที่เป็น null ให้เปลี่ยนเป็น 00000**"
      ],
      "metadata": {
        "id": "vG9UDoA2OJaG"
      }
    },
    {
      "cell_type": "code",
      "source": [
        "# เปลี่ยน customerid ที่เป็น null ให้เปลี่ยนเป็น 00000\n",
        "retail_data_update = retail_data_update.withColumn(\"CustomerID\", when(retail_data_update['CustomerID'].isNull(),'00000').otherwise(retail_data_update['CustomerID']))"
      ],
      "metadata": {
        "id": "3OGbr_R4OZ_n"
      },
      "execution_count": 83,
      "outputs": []
    },
    {
      "cell_type": "code",
      "source": [
        "# นับจำนวน customerid ที่เป็น null\n",
        "retail_data_update.filter(retail_data_update.CustomerID.isNull()).count()"
      ],
      "metadata": {
        "colab": {
          "base_uri": "https://localhost:8080/"
        },
        "id": "wEMBVbtHOgcF",
        "outputId": "2070e80d-b764-4e59-b27e-c8fb653d8d67"
      },
      "execution_count": 84,
      "outputs": [
        {
          "output_type": "execute_result",
          "data": {
            "text/plain": [
              "0"
            ]
          },
          "metadata": {},
          "execution_count": 84
        }
      ]
    },
    {
      "cell_type": "code",
      "source": [
        "retail_data_update = retail_data_update.withColumn('CustomerID', trim(retail_data_update['CustomerID']))"
      ],
      "metadata": {
        "id": "uPPV9a29Oiyj"
      },
      "execution_count": 86,
      "outputs": []
    },
    {
      "cell_type": "code",
      "source": [
        "retail_data_update.show()"
      ],
      "metadata": {
        "id": "V9l_5804SW9c"
      },
      "execution_count": null,
      "outputs": []
    },
    {
      "cell_type": "markdown",
      "source": [
        "# **สมมุติได้รับแจ้งมาว่า description ที่เป็น null และ ? ให้เปลี่ยนเป็น No Description**"
      ],
      "metadata": {
        "id": "sGieuuuNPNLF"
      }
    },
    {
      "cell_type": "code",
      "source": [
        "retail_data_update = retail_data_update.withColumn(\"Description\", when(retail_data_update['Description'].isNull(),'No Description').otherwise(retail_data_update['Description']))\n",
        "retail_data_update = retail_data_update.withColumn(\"Description\", when(retail_data_update['Description'] == '?','No Description').otherwise(retail_data_update['Description']))"
      ],
      "metadata": {
        "id": "EWNtwJ1bP50a"
      },
      "execution_count": 91,
      "outputs": []
    },
    {
      "cell_type": "code",
      "source": [
        "# นับจำนวน Decription ที่เป็น Null\n",
        "retail_data_update.filter(retail_data_update.Description.isNull()).count()"
      ],
      "metadata": {
        "colab": {
          "base_uri": "https://localhost:8080/"
        },
        "id": "VAK2-pISRsFw",
        "outputId": "6b540568-b1d4-46c3-e750-91e8020eb7b9"
      },
      "execution_count": 98,
      "outputs": [
        {
          "output_type": "execute_result",
          "data": {
            "text/plain": [
              "0"
            ]
          },
          "metadata": {},
          "execution_count": 98
        }
      ]
    },
    {
      "cell_type": "code",
      "source": [
        "# นับจำนวน Decription ที่เป็น ?\n",
        "retail_data_update.filter(retail_data_update.Description == '?').count()"
      ],
      "metadata": {
        "colab": {
          "base_uri": "https://localhost:8080/"
        },
        "id": "M23odhi9R5fK",
        "outputId": "0a153350-b53e-4338-d090-c929b1ca73a1"
      },
      "execution_count": 99,
      "outputs": [
        {
          "output_type": "execute_result",
          "data": {
            "text/plain": [
              "0"
            ]
          },
          "metadata": {},
          "execution_count": 99
        }
      ]
    },
    {
      "cell_type": "markdown",
      "source": [
        "# **จัดการ Double quotes หรือ Single quotes ที่อยู่ใน Column description เนื่องจากอาจเกิดปัญหาในการบันทึกข้อมูลได้**"
      ],
      "metadata": {
        "id": "5eSNhvWVQQr6"
      }
    },
    {
      "cell_type": "code",
      "source": [
        "from pyspark.sql.functions import regexp_replace"
      ],
      "metadata": {
        "id": "m4K-TgI-QrxN"
      },
      "execution_count": 100,
      "outputs": []
    },
    {
      "cell_type": "code",
      "source": [
        "retail_data_update = retail_data_update.withColumn('Description', regexp_replace('Description', \"'\", ''))\n",
        "retail_data_update = retail_data_update.withColumn('Description', regexp_replace('Description', '\\\\\"', ''))"
      ],
      "metadata": {
        "id": "0WaxnBHlQK23"
      },
      "execution_count": 101,
      "outputs": []
    },
    {
      "cell_type": "code",
      "source": [
        "retail_data_update.show()"
      ],
      "metadata": {
        "colab": {
          "base_uri": "https://localhost:8080/"
        },
        "id": "L5g53Ij1SObD",
        "outputId": "2436fbd5-ab8c-4ede-cfc6-9510ae9fa2e6"
      },
      "execution_count": 102,
      "outputs": [
        {
          "output_type": "stream",
          "name": "stdout",
          "text": [
            "+--------------------+----------+--------------+-------------------+---------+--------+---------+---------+\n",
            "|         Description|CustomerID|       Country|          timestamp|InvoiceNO|Quantity|UnitPrice|StockCode|\n",
            "+--------------------+----------+--------------+-------------------+---------+--------+---------+---------+\n",
            "|WHITE HANGING HEA...|     17850|United Kingdom|2010-12-01 08:26:00|   536365|       6|     2.55|   85123A|\n",
            "| WHITE METAL LANTERN|     17850|United Kingdom|2010-12-01 08:26:00|   536365|       6|     3.39|    71053|\n",
            "|CREAM CUPID HEART...|     17850|United Kingdom|2010-12-01 08:26:00|   536365|       8|     2.75|   84406B|\n",
            "|KNITTED UNION FLA...|     17850|United Kingdom|2010-12-01 08:26:00|   536365|       6|     3.39|   84029G|\n",
            "|RED WOOLLY HOTTIE...|     17850|United Kingdom|2010-12-01 08:26:00|   536365|       6|     3.39|   84029E|\n",
            "|SET 7 BABUSHKA NE...|     17850|United Kingdom|2010-12-01 08:26:00|   536365|       2|     7.65|    22752|\n",
            "|GLASS STAR FROSTE...|     17850|United Kingdom|2010-12-01 08:26:00|   536365|       6|     4.25|    21730|\n",
            "|HAND WARMER UNION...|     17850|United Kingdom|2010-12-01 08:28:00|   536366|       6|     1.85|    22633|\n",
            "|HAND WARMER RED P...|     17850|United Kingdom|2010-12-01 08:28:00|   536366|       6|     1.85|    22632|\n",
            "|ASSORTED COLOUR B...|     13047|United Kingdom|2010-12-01 08:34:00|   536367|      32|     1.69|    84879|\n",
            "|POPPYS PLAYHOUSE ...|     13047|United Kingdom|2010-12-01 08:34:00|   536367|       6|      2.1|    22745|\n",
            "|POPPYS PLAYHOUSE ...|     13047|United Kingdom|2010-12-01 08:34:00|   536367|       6|      2.1|    22748|\n",
            "|FELTCRAFT PRINCES...|     13047|United Kingdom|2010-12-01 08:34:00|   536367|       8|     3.75|    22749|\n",
            "|IVORY KNITTED MUG...|     13047|United Kingdom|2010-12-01 08:34:00|   536367|       6|     1.65|    22310|\n",
            "|BOX OF 6 ASSORTED...|     13047|United Kingdom|2010-12-01 08:34:00|   536367|       6|     4.25|    84969|\n",
            "|BOX OF VINTAGE JI...|     13047|United Kingdom|2010-12-01 08:34:00|   536367|       3|     4.95|    22623|\n",
            "|BOX OF VINTAGE AL...|     13047|United Kingdom|2010-12-01 08:34:00|   536367|       2|     9.95|    22622|\n",
            "|HOME BUILDING BLO...|     13047|United Kingdom|2010-12-01 08:34:00|   536367|       3|     5.95|    21754|\n",
            "|LOVE BUILDING BLO...|     13047|United Kingdom|2010-12-01 08:34:00|   536367|       3|     5.95|    21755|\n",
            "|RECIPE BOX WITH M...|     13047|United Kingdom|2010-12-01 08:34:00|   536367|       4|     7.95|    21777|\n",
            "+--------------------+----------+--------------+-------------------+---------+--------+---------+---------+\n",
            "only showing top 20 rows\n",
            "\n"
          ]
        }
      ]
    },
    {
      "cell_type": "markdown",
      "source": [
        "# **สมมุติได้รับแจ้งมาว่าให้เปลี่ยน ชื่อ column ทั้งหมดเป็นตัวพิมพ์เล็ก**"
      ],
      "metadata": {
        "id": "B6NujCEaSeYs"
      }
    },
    {
      "cell_type": "code",
      "source": [
        "retail_data_update = retail_data_update.toDF(*[col.lower() for col in retail_data_update.columns])"
      ],
      "metadata": {
        "id": "kl6H-sWsSTq7"
      },
      "execution_count": 103,
      "outputs": []
    },
    {
      "cell_type": "code",
      "source": [
        "retail_data_update.show()"
      ],
      "metadata": {
        "colab": {
          "base_uri": "https://localhost:8080/"
        },
        "id": "f42NUeNISyPf",
        "outputId": "9d9e42a9-fefa-4acf-9723-fd40c8868e8a"
      },
      "execution_count": 104,
      "outputs": [
        {
          "output_type": "stream",
          "name": "stdout",
          "text": [
            "+--------------------+----------+--------------+-------------------+---------+--------+---------+---------+\n",
            "|         description|customerid|       country|          timestamp|invoiceno|quantity|unitprice|stockcode|\n",
            "+--------------------+----------+--------------+-------------------+---------+--------+---------+---------+\n",
            "|WHITE HANGING HEA...|     17850|United Kingdom|2010-12-01 08:26:00|   536365|       6|     2.55|   85123A|\n",
            "| WHITE METAL LANTERN|     17850|United Kingdom|2010-12-01 08:26:00|   536365|       6|     3.39|    71053|\n",
            "|CREAM CUPID HEART...|     17850|United Kingdom|2010-12-01 08:26:00|   536365|       8|     2.75|   84406B|\n",
            "|KNITTED UNION FLA...|     17850|United Kingdom|2010-12-01 08:26:00|   536365|       6|     3.39|   84029G|\n",
            "|RED WOOLLY HOTTIE...|     17850|United Kingdom|2010-12-01 08:26:00|   536365|       6|     3.39|   84029E|\n",
            "|SET 7 BABUSHKA NE...|     17850|United Kingdom|2010-12-01 08:26:00|   536365|       2|     7.65|    22752|\n",
            "|GLASS STAR FROSTE...|     17850|United Kingdom|2010-12-01 08:26:00|   536365|       6|     4.25|    21730|\n",
            "|HAND WARMER UNION...|     17850|United Kingdom|2010-12-01 08:28:00|   536366|       6|     1.85|    22633|\n",
            "|HAND WARMER RED P...|     17850|United Kingdom|2010-12-01 08:28:00|   536366|       6|     1.85|    22632|\n",
            "|ASSORTED COLOUR B...|     13047|United Kingdom|2010-12-01 08:34:00|   536367|      32|     1.69|    84879|\n",
            "|POPPYS PLAYHOUSE ...|     13047|United Kingdom|2010-12-01 08:34:00|   536367|       6|      2.1|    22745|\n",
            "|POPPYS PLAYHOUSE ...|     13047|United Kingdom|2010-12-01 08:34:00|   536367|       6|      2.1|    22748|\n",
            "|FELTCRAFT PRINCES...|     13047|United Kingdom|2010-12-01 08:34:00|   536367|       8|     3.75|    22749|\n",
            "|IVORY KNITTED MUG...|     13047|United Kingdom|2010-12-01 08:34:00|   536367|       6|     1.65|    22310|\n",
            "|BOX OF 6 ASSORTED...|     13047|United Kingdom|2010-12-01 08:34:00|   536367|       6|     4.25|    84969|\n",
            "|BOX OF VINTAGE JI...|     13047|United Kingdom|2010-12-01 08:34:00|   536367|       3|     4.95|    22623|\n",
            "|BOX OF VINTAGE AL...|     13047|United Kingdom|2010-12-01 08:34:00|   536367|       2|     9.95|    22622|\n",
            "|HOME BUILDING BLO...|     13047|United Kingdom|2010-12-01 08:34:00|   536367|       3|     5.95|    21754|\n",
            "|LOVE BUILDING BLO...|     13047|United Kingdom|2010-12-01 08:34:00|   536367|       3|     5.95|    21755|\n",
            "|RECIPE BOX WITH M...|     13047|United Kingdom|2010-12-01 08:34:00|   536367|       4|     7.95|    21777|\n",
            "+--------------------+----------+--------------+-------------------+---------+--------+---------+---------+\n",
            "only showing top 20 rows\n",
            "\n"
          ]
        }
      ]
    },
    {
      "cell_type": "markdown",
      "source": [
        "# **save csv file**"
      ],
      "metadata": {
        "id": "5aL03cCBS_2O"
      }
    },
    {
      "cell_type": "code",
      "source": [
        "retail_data_update.coalesce(1).write.csv('retail.csv', header = True)"
      ],
      "metadata": {
        "id": "xRSOpBFrSwO4"
      },
      "execution_count": null,
      "outputs": []
    }
  ]
}